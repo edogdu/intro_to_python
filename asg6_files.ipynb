{
 "cells": [
  {
   "cell_type": "markdown",
   "metadata": {},
   "source": [
    "<h2>Assignment 6: Files</h2>\n",
    "\n",
    "Download data file: https://web.stanford.edu/class/archive/cs/cs109/cs109.1166/stuff/titanic.csv\n",
    "\n",
    "Write the following functions:\n",
    "\n",
    "1. Function survival_rate(file,gender): Returns the percentage of passengers of a specific gender who have survived? (find the number of those (male/female) passengers and the number of those passengers who survived, and then find the percentage).\n",
    "\n",
    "+ Function avg_fair(file,gender): What was the average fair paid by passengers of a specific gender?\n",
    "\n",
    "+ Function pclass_survival(file,pclass): What was the survival rate of passengers of a specific pclass?\n",
    "\n",
    "Put the definitions of functions (def only) in asg6.py and submit to <a href='https://www.gradescope.com'>Gradescope</a>."
   ]
  },
  {
   "cell_type": "code",
   "execution_count": 2,
   "metadata": {},
   "outputs": [
    {
     "name": "stdout",
     "output_type": "stream",
     "text": [
      "Number of female passengers: 314\n"
     ]
    }
   ],
   "source": [
    "# sample code to find the number of female passengers\n",
    "\n",
    "fhand = open('titanic.csv')\n",
    "cnt = 0\n",
    "# skip headers line\n",
    "headers = fhand.readline()\n",
    "for line in fhand:\n",
    "    data = line.split(',')\n",
    "    if data[3] == 'female':\n",
    "        cnt += 1\n",
    "print('Number of female passengers:',cnt)"
   ]
  },
  {
   "cell_type": "code",
   "execution_count": 3,
   "metadata": {},
   "outputs": [
    {
     "name": "stdout",
     "output_type": "stream",
     "text": [
      "0.74\n"
     ]
    }
   ],
   "source": [
    "# print the female survival rate\n",
    "print('%0.2f' % survival_rate('titanic.csv','female'))"
   ]
  },
  {
   "cell_type": "code",
   "execution_count": 4,
   "metadata": {},
   "outputs": [
    {
     "name": "stdout",
     "output_type": "stream",
     "text": [
      "0.19\n"
     ]
    }
   ],
   "source": [
    "# print the male survival rate\n",
    "print('%0.2f' % survival_rate('titanic.csv','male'))"
   ]
  },
  {
   "cell_type": "code",
   "execution_count": 5,
   "metadata": {},
   "outputs": [
    {
     "name": "stdout",
     "output_type": "stream",
     "text": [
      "44.48\n"
     ]
    }
   ],
   "source": [
    "# print the average fair for female passenger\n",
    "print('%4.2f' % avg_fair('titanic.csv','female'))"
   ]
  },
  {
   "cell_type": "code",
   "execution_count": 6,
   "metadata": {},
   "outputs": [
    {
     "name": "stdout",
     "output_type": "stream",
     "text": [
      "25.63\n"
     ]
    }
   ],
   "source": [
    "# print the average fair for male passenger\n",
    "print('%4.2f' % avg_fair('titanic.csv','male'))"
   ]
  },
  {
   "cell_type": "code",
   "execution_count": 7,
   "metadata": {},
   "outputs": [
    {
     "name": "stdout",
     "output_type": "stream",
     "text": [
      "0.63\n"
     ]
    }
   ],
   "source": [
    "# print the survival rate for passengers from class 1\n",
    "print('%4.2f' % pclass_survival('titanic.csv','1'))"
   ]
  },
  {
   "cell_type": "code",
   "execution_count": 8,
   "metadata": {},
   "outputs": [
    {
     "name": "stdout",
     "output_type": "stream",
     "text": [
      "0.47\n"
     ]
    }
   ],
   "source": [
    "# print the survival rate for passengers from class 2\n",
    "print('%4.2f' % pclass_survival('titanic.csv','2'))"
   ]
  },
  {
   "cell_type": "code",
   "execution_count": 9,
   "metadata": {},
   "outputs": [
    {
     "name": "stdout",
     "output_type": "stream",
     "text": [
      "0.24\n"
     ]
    }
   ],
   "source": [
    "# print the survival rate for passengers from class 3\n",
    "print('%4.2f' % pclass_survival('titanic.csv','3'))"
   ]
  },
  {
   "cell_type": "code",
   "execution_count": 10,
   "metadata": {},
   "outputs": [
    {
     "name": "stdout",
     "output_type": "stream",
     "text": [
      "0.00\n"
     ]
    }
   ],
   "source": [
    "# print the survival rate for passengers from class 4 (no such class)\n",
    "# make sure, it returns 0\n",
    "print('%4.2f' % pclass_survival('titanic.csv','4'))"
   ]
  },
  {
   "cell_type": "markdown",
   "metadata": {},
   "source": [
    "Above print statements use this formatting style:\n",
    "\n",
    "print(format % expression)\n",
    "\n",
    "'format' string can include for example these specifiers: <b>%5.2f</b> for five character long float numbers with two decimal points, <b>%3d</b> for 3 digit long integers, etc.\n",
    "\n",
    "For more read: https://docs.python.org/3/library/stdtypes.html#old-string-formatting"
   ]
  },
  {
   "cell_type": "code",
   "execution_count": 11,
   "metadata": {},
   "outputs": [
    {
     "name": "stdout",
     "output_type": "stream",
     "text": [
      "  1\n",
      " 21\n",
      "431\n"
     ]
    }
   ],
   "source": [
    "# examples for printing integers\n",
    "print('%3d'% 1)\n",
    "print('%3d'% 21)\n",
    "print('%3d'% 431)"
   ]
  },
  {
   "cell_type": "code",
   "execution_count": 12,
   "metadata": {},
   "outputs": [
    {
     "name": "stdout",
     "output_type": "stream",
     "text": [
      "  0.12\n",
      "212.15\n",
      " 45.74\n"
     ]
    }
   ],
   "source": [
    "# examples for printing float numbers\n",
    "print('%6.2f'% 0.1245)\n",
    "print('%6.2f'% 212.145)\n",
    "print('%6.2f'% 45.7365345)"
   ]
  }
 ],
 "metadata": {
  "kernelspec": {
   "display_name": "Python 3",
   "language": "python",
   "name": "python3"
  },
  "language_info": {
   "codemirror_mode": {
    "name": "ipython",
    "version": 3
   },
   "file_extension": ".py",
   "mimetype": "text/x-python",
   "name": "python",
   "nbconvert_exporter": "python",
   "pygments_lexer": "ipython3",
   "version": "3.7.3"
  }
 },
 "nbformat": 4,
 "nbformat_minor": 2
}
