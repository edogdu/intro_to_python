{
 "cells": [
  {
   "cell_type": "markdown",
   "metadata": {},
   "source": [
    "## Country Guessing Game\n",
    "\n",
    "Download <a href=\"countries.txt\">countries.txt</a>"
   ]
  },
  {
   "cell_type": "code",
   "execution_count": 44,
   "metadata": {},
   "outputs": [
    {
     "name": "stdout",
     "output_type": "stream",
     "text": [
      "_ _ _ _ _ _   You entered: \n",
      "Guess: a\n",
      "_ _ _ _ _ _   You entered: a\n",
      "Guess: b\n",
      "b _ _ _ _ _   You entered: ab\n",
      "Guess: o\n",
      "b _ _ _ _ _   You entered: abo\n",
      "Guess: m\n",
      "b _ _ _ _ _   You entered: abom\n",
      "Guess: f\n",
      "b _ _ _ _ _   You entered: abomf\n",
      "Guess: l\n",
      "b _ l _ _ _   You entered: abomfl\n",
      "Guess: u\n",
      "b _ l _ _ _   You entered: abomflu\n",
      "Guess: e\n",
      "b e l _ _ e   You entered: abomflue\n",
      "Guess: n\n",
      "b e l _ _ e   You entered: abomfluen\n",
      "Guess: i\n",
      "b e l i _ e   You entered: abomflueni\n",
      "Guess: g\n",
      "b e l i _ e   You entered: abomfluenig\n",
      "Guess: z\n",
      "You got it! belize\n"
     ]
    }
   ],
   "source": [
    "import random\n",
    "\n",
    "# read the country names to a list from file\n",
    "fhand = open('countries.txt')\n",
    "countries = []\n",
    "for line in fhand:\n",
    "    countries.append(line.strip())\n",
    "\n",
    "# randomly choose a country\n",
    "cname = countries[int(random.random()*196)]\n",
    "cname = cname.lower()\n",
    "\n",
    "# guess name for the country\n",
    "gname = '_'*len(cname)\n",
    "\n",
    "guesslist = ''\n",
    "while True:\n",
    "    # display hidden name\n",
    "    print(' '.join(list(gname)), '  You entered:', guesslist)\n",
    "    # ask for user guess\n",
    "    guess = input('Guess: ').lower()\n",
    "    guesslist = guesslist + guess\n",
    "    \n",
    "    # split chars in country name into a list\n",
    "    cname2 = list(cname)\n",
    "    gname2 = list(gname)\n",
    "\n",
    "    # replace the char if found\n",
    "    for i in range(len(cname2)):\n",
    "        if cname2[i]==guess:\n",
    "            gname2[i]=guess\n",
    "    gname = ''.join(gname2)\n",
    "    if gname.find('_')<0:\n",
    "        print('You got it!', cname)\n",
    "        break\n"
   ]
  }
 ],
 "metadata": {
  "kernelspec": {
   "display_name": "Python 3",
   "language": "python",
   "name": "python3"
  },
  "language_info": {
   "codemirror_mode": {
    "name": "ipython",
    "version": 3
   },
   "file_extension": ".py",
   "mimetype": "text/x-python",
   "name": "python",
   "nbconvert_exporter": "python",
   "pygments_lexer": "ipython3",
   "version": "3.7.4"
  }
 },
 "nbformat": 4,
 "nbformat_minor": 2
}
