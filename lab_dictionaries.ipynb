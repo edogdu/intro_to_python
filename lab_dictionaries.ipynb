{
 "cells": [
  {
   "cell_type": "markdown",
   "metadata": {},
   "source": [
    "# Lab: Dictionaries"
   ]
  },
  {
   "cell_type": "markdown",
   "metadata": {},
   "source": [
    "### Empty dictionary"
   ]
  },
  {
   "cell_type": "code",
   "execution_count": 1,
   "metadata": {},
   "outputs": [
    {
     "data": {
      "text/plain": [
       "{}"
      ]
     },
     "execution_count": 1,
     "metadata": {},
     "output_type": "execute_result"
    }
   ],
   "source": [
    "d = dict()\n",
    "d"
   ]
  },
  {
   "cell_type": "code",
   "execution_count": 2,
   "metadata": {},
   "outputs": [
    {
     "data": {
      "text/plain": [
       "{}"
      ]
     },
     "execution_count": 2,
     "metadata": {},
     "output_type": "execute_result"
    }
   ],
   "source": [
    "d = {}\n",
    "d"
   ]
  },
  {
   "cell_type": "markdown",
   "metadata": {},
   "source": [
    "### New dictionary created with static values\n",
    "Create a new dictionary called 'grade' with name and grade pairs as follows. Name is the key and grade is the value for each entry."
   ]
  },
  {
   "cell_type": "code",
   "execution_count": 3,
   "metadata": {},
   "outputs": [
    {
     "data": {
      "text/plain": [
       "{'jim': 100, 'jen': 75, 'joe': 89}"
      ]
     },
     "execution_count": 3,
     "metadata": {},
     "output_type": "execute_result"
    }
   ],
   "source": [
    "grade = { 'jim': 100, 'jen': 75, 'joe': 89}\n",
    "grade"
   ]
  },
  {
   "cell_type": "markdown",
   "metadata": {},
   "source": [
    "### Change the value of a key\n",
    "Change the grade of jen to 90"
   ]
  },
  {
   "cell_type": "code",
   "execution_count": 4,
   "metadata": {},
   "outputs": [
    {
     "data": {
      "text/plain": [
       "{'jim': 100, 'jen': 90, 'joe': 89}"
      ]
     },
     "execution_count": 4,
     "metadata": {},
     "output_type": "execute_result"
    }
   ],
   "source": [
    "grade['jen'] = 90\n",
    "grade"
   ]
  },
  {
   "cell_type": "markdown",
   "metadata": {},
   "source": [
    "### Add a new entry\n",
    "Add 'mia' with grade 74"
   ]
  },
  {
   "cell_type": "code",
   "execution_count": 5,
   "metadata": {},
   "outputs": [
    {
     "data": {
      "text/plain": [
       "{'jim': 100, 'jen': 90, 'joe': 89, 'mia': 74}"
      ]
     },
     "execution_count": 5,
     "metadata": {},
     "output_type": "execute_result"
    }
   ],
   "source": [
    "grade['mia'] = 74\n",
    "grade"
   ]
  },
  {
   "cell_type": "markdown",
   "metadata": {},
   "source": [
    "### Iterate over keys of a dictionary\n",
    "Print all names (keys) in grade dictionary"
   ]
  },
  {
   "cell_type": "code",
   "execution_count": 6,
   "metadata": {},
   "outputs": [
    {
     "name": "stdout",
     "output_type": "stream",
     "text": [
      "jim\n",
      "jen\n",
      "joe\n",
      "mia\n"
     ]
    }
   ],
   "source": [
    "for name in grade:\n",
    "    print(name)"
   ]
  },
  {
   "cell_type": "markdown",
   "metadata": {},
   "source": [
    "### Iterate and print keys and values from a dictionary\n",
    "Print the names and grades from grade dictionary"
   ]
  },
  {
   "cell_type": "code",
   "execution_count": 7,
   "metadata": {},
   "outputs": [
    {
     "name": "stdout",
     "output_type": "stream",
     "text": [
      "jim 100\n",
      "jen 90\n",
      "joe 89\n",
      "mia 74\n"
     ]
    }
   ],
   "source": [
    "for name in grade:\n",
    "    print(name,grade[name])"
   ]
  },
  {
   "cell_type": "markdown",
   "metadata": {},
   "source": [
    "### Check if a key is in dictionary using 'in' or 'not in' operators\n",
    "Check if tom is in grade dictionary"
   ]
  },
  {
   "cell_type": "code",
   "execution_count": 8,
   "metadata": {},
   "outputs": [
    {
     "name": "stdout",
     "output_type": "stream",
     "text": [
      "Tom has no grade\n"
     ]
    }
   ],
   "source": [
    "if 'tom' in grade:\n",
    "    print('Tom has grade', grade['tom'])\n",
    "else:\n",
    "    print('Tom has no grade')"
   ]
  },
  {
   "cell_type": "markdown",
   "metadata": {},
   "source": [
    "### Use get function to get value for a key\n",
    "Check if tom is in grade dictionary, if he is then print his grade, else print he has 0 grade (default value used in get function)"
   ]
  },
  {
   "cell_type": "code",
   "execution_count": 9,
   "metadata": {},
   "outputs": [
    {
     "name": "stdout",
     "output_type": "stream",
     "text": [
      "Tom has grade 0\n"
     ]
    }
   ],
   "source": [
    "print('Tom has grade', grade.get('tom',0))"
   ]
  },
  {
   "cell_type": "code",
   "execution_count": 10,
   "metadata": {},
   "outputs": [
    {
     "name": "stdout",
     "output_type": "stream",
     "text": [
      "Mia has grade 74\n"
     ]
    }
   ],
   "source": [
    "print('Mia has grade', grade.get('mia',0))"
   ]
  },
  {
   "cell_type": "markdown",
   "metadata": {},
   "source": [
    "### Dictionaries are used to count things\n",
    "Count the characters in a string such as:\n",
    "\n",
    "Python is an interpreted, high-level, general-purpose programming language. Created by Guido van Rossum and first released in 1991, Python's design philosophy emphasizes code readability with its notable use of significant whitespace. Its language constructs and object-oriented approach aim to help programmers write clear, logical code for small and large-scale projects."
   ]
  },
  {
   "cell_type": "code",
   "execution_count": 11,
   "metadata": {},
   "outputs": [],
   "source": [
    "text = 'Python is an interpreted, high-level, general-purpose programming language. Created by Guido van Rossum and first released in 1991, Python\\'s design philosophy emphasizes code readability with its notable use of significant whitespace. Its language constructs and object-oriented approach aim to help programmers write clear, logical code for small and large-scale projects.'"
   ]
  },
  {
   "cell_type": "markdown",
   "metadata": {},
   "source": [
    "#### Create a dictionary called chars to keep characters and the count of each character"
   ]
  },
  {
   "cell_type": "code",
   "execution_count": 12,
   "metadata": {},
   "outputs": [],
   "source": [
    "chars = {}"
   ]
  },
  {
   "cell_type": "markdown",
   "metadata": {},
   "source": [
    "#### Iterate over characters in text and count characters in dictionary chars"
   ]
  },
  {
   "cell_type": "code",
   "execution_count": 13,
   "metadata": {},
   "outputs": [],
   "source": [
    "for c in text:\n",
    "    chars[c] = chars.get(c, 0) + 1"
   ]
  },
  {
   "cell_type": "code",
   "execution_count": 14,
   "metadata": {},
   "outputs": [
    {
     "data": {
      "text/plain": [
       "{'P': 2,\n",
       " 'y': 5,\n",
       " 't': 20,\n",
       " 'h': 11,\n",
       " 'o': 21,\n",
       " 'n': 19,\n",
       " ' ': 49,\n",
       " 'i': 22,\n",
       " 's': 22,\n",
       " 'a': 28,\n",
       " 'e': 35,\n",
       " 'r': 21,\n",
       " 'p': 13,\n",
       " 'd': 12,\n",
       " ',': 4,\n",
       " 'g': 13,\n",
       " '-': 4,\n",
       " 'l': 17,\n",
       " 'v': 2,\n",
       " 'u': 7,\n",
       " 'm': 8,\n",
       " '.': 3,\n",
       " 'C': 1,\n",
       " 'b': 4,\n",
       " 'G': 1,\n",
       " 'R': 1,\n",
       " 'f': 4,\n",
       " '1': 2,\n",
       " '9': 2,\n",
       " \"'\": 1,\n",
       " 'z': 1,\n",
       " 'c': 12,\n",
       " 'w': 3,\n",
       " 'I': 1,\n",
       " 'j': 2}"
      ]
     },
     "execution_count": 14,
     "metadata": {},
     "output_type": "execute_result"
    }
   ],
   "source": [
    "chars"
   ]
  },
  {
   "cell_type": "markdown",
   "metadata": {},
   "source": [
    "### keys() function\n",
    "What are the keys in dictionary chars"
   ]
  },
  {
   "cell_type": "code",
   "execution_count": 15,
   "metadata": {},
   "outputs": [
    {
     "name": "stdout",
     "output_type": "stream",
     "text": [
      "dict_keys(['P', 'y', 't', 'h', 'o', 'n', ' ', 'i', 's', 'a', 'e', 'r', 'p', 'd', ',', 'g', '-', 'l', 'v', 'u', 'm', '.', 'C', 'b', 'G', 'R', 'f', '1', '9', \"'\", 'z', 'c', 'w', 'I', 'j'])\n"
     ]
    }
   ],
   "source": [
    "print(chars.keys())"
   ]
  },
  {
   "cell_type": "markdown",
   "metadata": {},
   "source": [
    "### values() function\n",
    "What are the values in dictionary chars"
   ]
  },
  {
   "cell_type": "code",
   "execution_count": 16,
   "metadata": {},
   "outputs": [
    {
     "name": "stdout",
     "output_type": "stream",
     "text": [
      "dict_values([2, 5, 20, 11, 21, 19, 49, 22, 22, 28, 35, 21, 13, 12, 4, 13, 4, 17, 2, 7, 8, 3, 1, 4, 1, 1, 4, 2, 2, 1, 1, 12, 3, 1, 2])\n"
     ]
    }
   ],
   "source": [
    "print(chars.values())"
   ]
  },
  {
   "cell_type": "markdown",
   "metadata": {},
   "source": [
    "### items() function\n",
    "What are the items in dictionary chars"
   ]
  },
  {
   "cell_type": "code",
   "execution_count": 17,
   "metadata": {},
   "outputs": [
    {
     "name": "stdout",
     "output_type": "stream",
     "text": [
      "dict_items([('P', 2), ('y', 5), ('t', 20), ('h', 11), ('o', 21), ('n', 19), (' ', 49), ('i', 22), ('s', 22), ('a', 28), ('e', 35), ('r', 21), ('p', 13), ('d', 12), (',', 4), ('g', 13), ('-', 4), ('l', 17), ('v', 2), ('u', 7), ('m', 8), ('.', 3), ('C', 1), ('b', 4), ('G', 1), ('R', 1), ('f', 4), ('1', 2), ('9', 2), (\"'\", 1), ('z', 1), ('c', 12), ('w', 3), ('I', 1), ('j', 2)])\n"
     ]
    }
   ],
   "source": [
    "print(chars.items())"
   ]
  },
  {
   "cell_type": "markdown",
   "metadata": {},
   "source": [
    "### Find the highest valued item in a dictionary\n",
    "Find the most commonly used character in text using chars dictionary"
   ]
  },
  {
   "cell_type": "code",
   "execution_count": 18,
   "metadata": {},
   "outputs": [
    {
     "name": "stdout",
     "output_type": "stream",
     "text": [
      "P 2\n",
      "y 5\n",
      "t 20\n",
      "o 21\n",
      "  49\n",
      "The most commonly used character in text is \" \" counted 49 times.\n"
     ]
    }
   ],
   "source": [
    "maxchar = ''\n",
    "maxnum = 0\n",
    "\n",
    "for c in chars:\n",
    "    if chars[c] > maxnum:\n",
    "        maxchar = c\n",
    "        maxnum = chars[c]\n",
    "        print(maxchar, maxnum)\n",
    "print('The most commonly used character in text is \"' + maxchar + '\" counted', maxnum, 'times.')"
   ]
  }
 ],
 "metadata": {
  "kernelspec": {
   "display_name": "Python 3",
   "language": "python",
   "name": "python3"
  },
  "language_info": {
   "codemirror_mode": {
    "name": "ipython",
    "version": 3
   },
   "file_extension": ".py",
   "mimetype": "text/x-python",
   "name": "python",
   "nbconvert_exporter": "python",
   "pygments_lexer": "ipython3",
   "version": "3.7.3"
  }
 },
 "nbformat": 4,
 "nbformat_minor": 2
}
