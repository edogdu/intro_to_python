{
 "cells": [
  {
   "cell_type": "markdown",
   "metadata": {
    "slideshow": {
     "slide_type": "slide"
    }
   },
   "source": [
    "### Dictionaries\n",
    "\n",
    "Author: Erdogan Dogdu"
   ]
  },
  {
   "cell_type": "code",
   "execution_count": 1,
   "metadata": {
    "slideshow": {
     "slide_type": "slide"
    }
   },
   "outputs": [
    {
     "name": "stdout",
     "output_type": "stream",
     "text": [
      "10\n",
      "5\n"
     ]
    }
   ],
   "source": [
    "# a variable holds a single value\n",
    "x = 10\n",
    "print(x)\n",
    "x = 5\n",
    "print(x)"
   ]
  },
  {
   "cell_type": "code",
   "execution_count": 2,
   "metadata": {
    "slideshow": {
     "slide_type": "slide"
    }
   },
   "outputs": [
    {
     "name": "stdout",
     "output_type": "stream",
     "text": [
      "[1, 2, 3, 4, 5]\n",
      "1\n",
      "4\n"
     ]
    }
   ],
   "source": [
    "# a list is a collection, a kind of variable holding many values in order and indexed starting at index 0\n",
    "mylist = [1, 2, 3,  4, 5]\n",
    "print(mylist)\n",
    "print(mylist[0])\n",
    "print(mylist[3])"
   ]
  },
  {
   "cell_type": "code",
   "execution_count": 3,
   "metadata": {
    "slideshow": {
     "slide_type": "slide"
    }
   },
   "outputs": [
    {
     "name": "stdout",
     "output_type": "stream",
     "text": [
      "{'chuck': 1, 'fred': 42, 'jan': 100}\n"
     ]
    }
   ],
   "source": [
    "# a dictionary is a collection, a kind of variable holding many values, each labeled (keys), not in a specific order.\n",
    "scores = {'chuck': 1, 'fred': 42, 'jan': 100}\n",
    "print(scores)"
   ]
  },
  {
   "cell_type": "code",
   "execution_count": 4,
   "metadata": {
    "slideshow": {
     "slide_type": "slide"
    }
   },
   "outputs": [
    {
     "data": {
      "text/plain": [
       "dict_keys(['chuck', 'fred', 'jan'])"
      ]
     },
     "execution_count": 4,
     "metadata": {},
     "output_type": "execute_result"
    }
   ],
   "source": [
    "scores.keys()"
   ]
  },
  {
   "cell_type": "code",
   "execution_count": 5,
   "metadata": {
    "slideshow": {
     "slide_type": "slide"
    }
   },
   "outputs": [
    {
     "data": {
      "text/plain": [
       "dict_values([1, 42, 100])"
      ]
     },
     "execution_count": 5,
     "metadata": {},
     "output_type": "execute_result"
    }
   ],
   "source": [
    "scores.values()"
   ]
  },
  {
   "cell_type": "code",
   "execution_count": 6,
   "metadata": {
    "slideshow": {
     "slide_type": "slide"
    }
   },
   "outputs": [
    {
     "name": "stdout",
     "output_type": "stream",
     "text": [
      "0\n",
      "42\n"
     ]
    }
   ],
   "source": [
    "# get method with default value for key not found.\n",
    "print(scores.get('john',0))\n",
    "print(scores.get('fred',0))"
   ]
  },
  {
   "cell_type": "code",
   "execution_count": 7,
   "metadata": {
    "slideshow": {
     "slide_type": "slide"
    }
   },
   "outputs": [
    {
     "data": {
      "text/plain": [
       "dict_items([('chuck', 1), ('fred', 42), ('jan', 100)])"
      ]
     },
     "execution_count": 7,
     "metadata": {},
     "output_type": "execute_result"
    }
   ],
   "source": [
    "# tuples of (key,value) items, coming soon...\n",
    "scores.items()"
   ]
  },
  {
   "cell_type": "code",
   "execution_count": 8,
   "metadata": {
    "slideshow": {
     "slide_type": "slide"
    }
   },
   "outputs": [
    {
     "name": "stdout",
     "output_type": "stream",
     "text": [
      "{'csev': 2, 'cwen': 2, 'zqian': 1}\n"
     ]
    }
   ],
   "source": [
    "# check key in dictionary using in/not in operators\n",
    "counts = dict()\n",
    "names = ['csev', 'cwen', 'csev', 'zqian', 'cwen']\n",
    "for name in names :\n",
    "    if name not in counts: \n",
    "        counts[name] = 1\n",
    "    else :\n",
    "        counts[name] = counts[name] + 1\n",
    "print(counts)"
   ]
  },
  {
   "cell_type": "code",
   "execution_count": 9,
   "metadata": {
    "slideshow": {
     "slide_type": "slide"
    }
   },
   "outputs": [
    {
     "name": "stdout",
     "output_type": "stream",
     "text": [
      "{'csev': 2, 'cwen': 2, 'zqian': 1}\n"
     ]
    }
   ],
   "source": [
    "# check key using get function with default value for key not found\n",
    "counts = dict()\n",
    "names = ['csev', 'cwen', 'csev', 'zqian', 'cwen']\n",
    "for name in names :\n",
    "    counts[name] = counts.get(name, 0) + 1      # get(key,default)\n",
    "print(counts)"
   ]
  },
  {
   "cell_type": "code",
   "execution_count": 10,
   "metadata": {
    "slideshow": {
     "slide_type": "slide"
    }
   },
   "outputs": [
    {
     "name": "stdout",
     "output_type": "stream",
     "text": [
      "Keys sorted: ['earth', 'jupiter', 'mars', 'mercury', 'neptune', 'saturn', 'uranus', 'venus']\n",
      "earth 3959\n",
      "jupiter 43441\n",
      "mars 2106\n",
      "mercury 1516\n",
      "neptune 15299\n",
      "saturn 36184\n",
      "uranus 15759\n",
      "venus 3760\n"
     ]
    }
   ],
   "source": [
    "# sort a dictionary by keys\n",
    "planets = { 'mercury':1516, 'earth':3959, 'saturn':36184, 'mars':2106, \n",
    "           'neptune':15299, 'jupiter':43441, 'venus':3760, 'uranus':15759}\n",
    "print('Keys sorted:', sorted(planets))\n",
    "for p in sorted(planets):\n",
    "    print(p, planets[p])"
   ]
  },
  {
   "cell_type": "code",
   "execution_count": 11,
   "metadata": {
    "slideshow": {
     "slide_type": "slide"
    }
   },
   "outputs": [
    {
     "name": "stdout",
     "output_type": "stream",
     "text": [
      "Enter a line of text:\n",
      "Our computers are fast and have vast amounts of memory and could be very helpful to us if we only knew the language to speak to explain to the computer what we would like it to do next.  If we knew this language we could tell the computer to do tasks on our behalf that were repetitive. Interestingly, the kinds of things computers can do best are often the kinds of things that we humans find boring and mind-numbing.\n",
      "\n",
      "Words: ['Our', 'computers', 'are', 'fast', 'and', 'have', 'vast', 'amounts', 'of', 'memory', 'and', 'could', 'be', 'very', 'helpful', 'to', 'us', 'if', 'we', 'only', 'knew', 'the', 'language', 'to', 'speak', 'to', 'explain', 'to', 'the', 'computer', 'what', 'we', 'would', 'like', 'it', 'to', 'do', 'next.', 'If', 'we', 'knew', 'this', 'language', 'we', 'could', 'tell', 'the', 'computer', 'to', 'do', 'tasks', 'on', 'our', 'behalf', 'that', 'were', 'repetitive.', 'Interestingly,', 'the', 'kinds', 'of', 'things', 'computers', 'can', 'do', 'best', 'are', 'often', 'the', 'kinds', 'of', 'things', 'that', 'we', 'humans', 'find', 'boring', 'and', 'mind-numbing.']\n",
      "Counting...\n",
      "\n",
      "Counts {'Our': 1, 'computers': 2, 'are': 2, 'fast': 1, 'and': 3, 'have': 1, 'vast': 1, 'amounts': 1, 'of': 3, 'memory': 1, 'could': 2, 'be': 1, 'very': 1, 'helpful': 1, 'to': 6, 'us': 1, 'if': 1, 'we': 5, 'only': 1, 'knew': 2, 'the': 5, 'language': 2, 'speak': 1, 'explain': 1, 'computer': 2, 'what': 1, 'would': 1, 'like': 1, 'it': 1, 'do': 3, 'next.': 1, 'If': 1, 'this': 1, 'tell': 1, 'tasks': 1, 'on': 1, 'our': 1, 'behalf': 1, 'that': 2, 'were': 1, 'repetitive.': 1, 'Interestingly,': 1, 'kinds': 2, 'things': 2, 'can': 1, 'best': 1, 'often': 1, 'humans': 1, 'find': 1, 'boring': 1, 'mind-numbing.': 1}\n"
     ]
    }
   ],
   "source": [
    "# counting words in text\n",
    "# Example text:\n",
    "# Our computers are fast and have vast amounts of memory and could be very helpful to us if we only knew the language to speak to explain to the computer what we would like it to do next.  If we knew this language we could tell the computer to do tasks on our behalf that were repetitive. Interestingly, the kinds of things computers can do best are often the kinds of things that we humans find boring and mind-numbing.\n",
    "\n",
    "counts = dict()\n",
    "print('Enter a line of text:')\n",
    "line = input('')\n",
    "\n",
    "words = line.split()\n",
    "\n",
    "print('\\nWords:', words)\n",
    "\n",
    "print('Counting...\\n')\n",
    "for word in words:\n",
    "    counts[word] = counts.get(word,0) + 1\n",
    "print('Counts', counts)"
   ]
  },
  {
   "cell_type": "code",
   "execution_count": 12,
   "metadata": {
    "slideshow": {
     "slide_type": "slide"
    }
   },
   "outputs": [
    {
     "name": "stdout",
     "output_type": "stream",
     "text": [
      "Our\n",
      "computers\n",
      "are\n",
      "fast\n",
      "and\n",
      "have\n",
      "vast\n",
      "amounts\n",
      "of\n",
      "memory\n",
      "could\n",
      "be\n",
      "very\n",
      "helpful\n",
      "to\n",
      "us\n",
      "if\n",
      "we\n",
      "only\n",
      "knew\n",
      "the\n",
      "language\n",
      "speak\n",
      "explain\n",
      "computer\n",
      "what\n",
      "would\n",
      "like\n",
      "it\n",
      "do\n",
      "next.\n",
      "If\n",
      "this\n",
      "tell\n",
      "tasks\n",
      "on\n",
      "our\n",
      "behalf\n",
      "that\n",
      "were\n",
      "repetitive.\n",
      "Interestingly,\n",
      "kinds\n",
      "things\n",
      "can\n",
      "best\n",
      "often\n",
      "humans\n",
      "find\n",
      "boring\n",
      "mind-numbing.\n"
     ]
    }
   ],
   "source": [
    "# print keys in a dictionary\n",
    "for key in counts:\n",
    "    print(key)"
   ]
  },
  {
   "cell_type": "code",
   "execution_count": 13,
   "metadata": {
    "slideshow": {
     "slide_type": "slide"
    }
   },
   "outputs": [
    {
     "name": "stdout",
     "output_type": "stream",
     "text": [
      "Our 1\n",
      "computers 2\n",
      "are 2\n",
      "fast 1\n",
      "and 3\n",
      "have 1\n",
      "vast 1\n",
      "amounts 1\n",
      "of 3\n",
      "memory 1\n",
      "could 2\n",
      "be 1\n",
      "very 1\n",
      "helpful 1\n",
      "to 6\n",
      "us 1\n",
      "if 1\n",
      "we 5\n",
      "only 1\n",
      "knew 2\n",
      "the 5\n",
      "language 2\n",
      "speak 1\n",
      "explain 1\n",
      "computer 2\n",
      "what 1\n",
      "would 1\n",
      "like 1\n",
      "it 1\n",
      "do 3\n",
      "next. 1\n",
      "If 1\n",
      "this 1\n",
      "tell 1\n",
      "tasks 1\n",
      "on 1\n",
      "our 1\n",
      "behalf 1\n",
      "that 2\n",
      "were 1\n",
      "repetitive. 1\n",
      "Interestingly, 1\n",
      "kinds 2\n",
      "things 2\n",
      "can 1\n",
      "best 1\n",
      "often 1\n",
      "humans 1\n",
      "find 1\n",
      "boring 1\n",
      "mind-numbing. 1\n"
     ]
    }
   ],
   "source": [
    "# Loop through key-value pairs in a dictionary\n",
    "for key,val in counts.items():\n",
    "    print(key,val)"
   ]
  },
  {
   "cell_type": "code",
   "execution_count": 14,
   "metadata": {
    "slideshow": {
     "slide_type": "slide"
    }
   },
   "outputs": [
    {
     "name": "stdout",
     "output_type": "stream",
     "text": [
      "If 1\n",
      "Interestingly, 1\n",
      "Our 1\n",
      "amounts 1\n",
      "and 3\n",
      "are 2\n",
      "be 1\n",
      "behalf 1\n",
      "best 1\n",
      "boring 1\n",
      "can 1\n",
      "computer 2\n",
      "computers 2\n",
      "could 2\n",
      "do 3\n",
      "explain 1\n",
      "fast 1\n",
      "find 1\n",
      "have 1\n",
      "helpful 1\n",
      "humans 1\n",
      "if 1\n",
      "it 1\n",
      "kinds 2\n",
      "knew 2\n",
      "language 2\n",
      "like 1\n",
      "memory 1\n",
      "mind-numbing. 1\n",
      "next. 1\n",
      "of 3\n",
      "often 1\n",
      "on 1\n",
      "only 1\n",
      "our 1\n",
      "repetitive. 1\n",
      "speak 1\n",
      "tasks 1\n",
      "tell 1\n",
      "that 2\n",
      "the 5\n",
      "things 2\n",
      "this 1\n",
      "to 6\n",
      "us 1\n",
      "vast 1\n",
      "very 1\n",
      "we 5\n",
      "were 1\n",
      "what 1\n",
      "would 1\n"
     ]
    }
   ],
   "source": [
    "# sorting a dictionary by keys\n",
    "for key in sorted(counts):\n",
    "    print(key, counts[key])"
   ]
  },
  {
   "cell_type": "code",
   "execution_count": 15,
   "metadata": {
    "slideshow": {
     "slide_type": "slide"
    }
   },
   "outputs": [
    {
     "name": "stdout",
     "output_type": "stream",
     "text": [
      "to 6\n",
      "we 5\n",
      "the 5\n",
      "and 3\n",
      "of 3\n",
      "do 3\n",
      "computers 2\n",
      "are 2\n",
      "could 2\n",
      "knew 2\n",
      "language 2\n",
      "computer 2\n",
      "that 2\n",
      "kinds 2\n",
      "things 2\n",
      "Our 1\n",
      "fast 1\n",
      "have 1\n",
      "vast 1\n",
      "amounts 1\n",
      "memory 1\n",
      "be 1\n",
      "very 1\n",
      "helpful 1\n",
      "us 1\n",
      "if 1\n",
      "only 1\n",
      "speak 1\n",
      "explain 1\n",
      "what 1\n",
      "would 1\n",
      "like 1\n",
      "it 1\n",
      "next. 1\n",
      "If 1\n",
      "this 1\n",
      "tell 1\n",
      "tasks 1\n",
      "on 1\n",
      "our 1\n",
      "behalf 1\n",
      "were 1\n",
      "repetitive. 1\n",
      "Interestingly, 1\n",
      "can 1\n",
      "best 1\n",
      "often 1\n",
      "humans 1\n",
      "find 1\n",
      "boring 1\n",
      "mind-numbing. 1\n"
     ]
    }
   ],
   "source": [
    "# Sort a dictionary by values in descending order\n",
    "for key in sorted(counts, key=counts.get, reverse=True):\n",
    "    print(key,counts[key])"
   ]
  },
  {
   "cell_type": "markdown",
   "metadata": {
    "slideshow": {
     "slide_type": "slide"
    }
   },
   "source": [
    "# Exercise 1: Count the grades of students"
   ]
  },
  {
   "cell_type": "code",
   "execution_count": 1,
   "metadata": {
    "slideshow": {
     "slide_type": "slide"
    }
   },
   "outputs": [
    {
     "name": "stdout",
     "output_type": "stream",
     "text": [
      "John: A\n",
      "Tim: B\n",
      "Jennifer: B\n",
      "Noah: C\n",
      "Olivia: A\n",
      "William: B\n",
      "Ava: D\n",
      "James: F\n",
      "Isabella: B\n",
      "Oliver: C\n",
      "Sophia: B\n",
      "Benjamin: A\n"
     ]
    }
   ],
   "source": [
    "# Given two lists with names and grades\n",
    "names = ['John', 'Tim', 'Jennifer', 'Noah', 'Olivia', 'William', 'Ava', 'James', 'Isabella', 'Oliver', 'Sophia', 'Benjamin']\n",
    "grades = ['A','B','B','C','A','B','D','F','B','C','B','A']\n",
    "\n",
    "# Let's print names of students with their grade\n",
    "for i in range(len(names)):\n",
    "    print(names[i] + ': ' + grades[i])"
   ]
  },
  {
   "cell_type": "code",
   "execution_count": 2,
   "metadata": {
    "slideshow": {
     "slide_type": "slide"
    }
   },
   "outputs": [
    {
     "name": "stdout",
     "output_type": "stream",
     "text": [
      "{'A': 3, 'B': 5, 'C': 2, 'D': 1, 'F': 1}\n"
     ]
    }
   ],
   "source": [
    "# Now find the number of grades and print them using a dictionary \n",
    "# where key is grade, and value is the number times that grade is given. to the students\n",
    "\n",
    "# your code goes here\n",
    "count = {}\n",
    "for i in range(len(names)):\n",
    "    count[grades[i]] = count.get(grades[i],0) + 1\n",
    "print(count)"
   ]
  },
  {
   "cell_type": "code",
   "execution_count": 40,
   "metadata": {
    "slideshow": {
     "slide_type": "slide"
    }
   },
   "outputs": [
    {
     "data": {
      "application/javascript": [
       "/* Put everything inside the global mpl namespace */\n",
       "window.mpl = {};\n",
       "\n",
       "\n",
       "mpl.get_websocket_type = function() {\n",
       "    if (typeof(WebSocket) !== 'undefined') {\n",
       "        return WebSocket;\n",
       "    } else if (typeof(MozWebSocket) !== 'undefined') {\n",
       "        return MozWebSocket;\n",
       "    } else {\n",
       "        alert('Your browser does not have WebSocket support. ' +\n",
       "              'Please try Chrome, Safari or Firefox ≥ 6. ' +\n",
       "              'Firefox 4 and 5 are also supported but you ' +\n",
       "              'have to enable WebSockets in about:config.');\n",
       "    };\n",
       "}\n",
       "\n",
       "mpl.figure = function(figure_id, websocket, ondownload, parent_element) {\n",
       "    this.id = figure_id;\n",
       "\n",
       "    this.ws = websocket;\n",
       "\n",
       "    this.supports_binary = (this.ws.binaryType != undefined);\n",
       "\n",
       "    if (!this.supports_binary) {\n",
       "        var warnings = document.getElementById(\"mpl-warnings\");\n",
       "        if (warnings) {\n",
       "            warnings.style.display = 'block';\n",
       "            warnings.textContent = (\n",
       "                \"This browser does not support binary websocket messages. \" +\n",
       "                    \"Performance may be slow.\");\n",
       "        }\n",
       "    }\n",
       "\n",
       "    this.imageObj = new Image();\n",
       "\n",
       "    this.context = undefined;\n",
       "    this.message = undefined;\n",
       "    this.canvas = undefined;\n",
       "    this.rubberband_canvas = undefined;\n",
       "    this.rubberband_context = undefined;\n",
       "    this.format_dropdown = undefined;\n",
       "\n",
       "    this.image_mode = 'full';\n",
       "\n",
       "    this.root = $('<div/>');\n",
       "    this._root_extra_style(this.root)\n",
       "    this.root.attr('style', 'display: inline-block');\n",
       "\n",
       "    $(parent_element).append(this.root);\n",
       "\n",
       "    this._init_header(this);\n",
       "    this._init_canvas(this);\n",
       "    this._init_toolbar(this);\n",
       "\n",
       "    var fig = this;\n",
       "\n",
       "    this.waiting = false;\n",
       "\n",
       "    this.ws.onopen =  function () {\n",
       "            fig.send_message(\"supports_binary\", {value: fig.supports_binary});\n",
       "            fig.send_message(\"send_image_mode\", {});\n",
       "            if (mpl.ratio != 1) {\n",
       "                fig.send_message(\"set_dpi_ratio\", {'dpi_ratio': mpl.ratio});\n",
       "            }\n",
       "            fig.send_message(\"refresh\", {});\n",
       "        }\n",
       "\n",
       "    this.imageObj.onload = function() {\n",
       "            if (fig.image_mode == 'full') {\n",
       "                // Full images could contain transparency (where diff images\n",
       "                // almost always do), so we need to clear the canvas so that\n",
       "                // there is no ghosting.\n",
       "                fig.context.clearRect(0, 0, fig.canvas.width, fig.canvas.height);\n",
       "            }\n",
       "            fig.context.drawImage(fig.imageObj, 0, 0);\n",
       "        };\n",
       "\n",
       "    this.imageObj.onunload = function() {\n",
       "        fig.ws.close();\n",
       "    }\n",
       "\n",
       "    this.ws.onmessage = this._make_on_message_function(this);\n",
       "\n",
       "    this.ondownload = ondownload;\n",
       "}\n",
       "\n",
       "mpl.figure.prototype._init_header = function() {\n",
       "    var titlebar = $(\n",
       "        '<div class=\"ui-dialog-titlebar ui-widget-header ui-corner-all ' +\n",
       "        'ui-helper-clearfix\"/>');\n",
       "    var titletext = $(\n",
       "        '<div class=\"ui-dialog-title\" style=\"width: 100%; ' +\n",
       "        'text-align: center; padding: 3px;\"/>');\n",
       "    titlebar.append(titletext)\n",
       "    this.root.append(titlebar);\n",
       "    this.header = titletext[0];\n",
       "}\n",
       "\n",
       "\n",
       "\n",
       "mpl.figure.prototype._canvas_extra_style = function(canvas_div) {\n",
       "\n",
       "}\n",
       "\n",
       "\n",
       "mpl.figure.prototype._root_extra_style = function(canvas_div) {\n",
       "\n",
       "}\n",
       "\n",
       "mpl.figure.prototype._init_canvas = function() {\n",
       "    var fig = this;\n",
       "\n",
       "    var canvas_div = $('<div/>');\n",
       "\n",
       "    canvas_div.attr('style', 'position: relative; clear: both; outline: 0');\n",
       "\n",
       "    function canvas_keyboard_event(event) {\n",
       "        return fig.key_event(event, event['data']);\n",
       "    }\n",
       "\n",
       "    canvas_div.keydown('key_press', canvas_keyboard_event);\n",
       "    canvas_div.keyup('key_release', canvas_keyboard_event);\n",
       "    this.canvas_div = canvas_div\n",
       "    this._canvas_extra_style(canvas_div)\n",
       "    this.root.append(canvas_div);\n",
       "\n",
       "    var canvas = $('<canvas/>');\n",
       "    canvas.addClass('mpl-canvas');\n",
       "    canvas.attr('style', \"left: 0; top: 0; z-index: 0; outline: 0\")\n",
       "\n",
       "    this.canvas = canvas[0];\n",
       "    this.context = canvas[0].getContext(\"2d\");\n",
       "\n",
       "    var backingStore = this.context.backingStorePixelRatio ||\n",
       "\tthis.context.webkitBackingStorePixelRatio ||\n",
       "\tthis.context.mozBackingStorePixelRatio ||\n",
       "\tthis.context.msBackingStorePixelRatio ||\n",
       "\tthis.context.oBackingStorePixelRatio ||\n",
       "\tthis.context.backingStorePixelRatio || 1;\n",
       "\n",
       "    mpl.ratio = (window.devicePixelRatio || 1) / backingStore;\n",
       "\n",
       "    var rubberband = $('<canvas/>');\n",
       "    rubberband.attr('style', \"position: absolute; left: 0; top: 0; z-index: 1;\")\n",
       "\n",
       "    var pass_mouse_events = true;\n",
       "\n",
       "    canvas_div.resizable({\n",
       "        start: function(event, ui) {\n",
       "            pass_mouse_events = false;\n",
       "        },\n",
       "        resize: function(event, ui) {\n",
       "            fig.request_resize(ui.size.width, ui.size.height);\n",
       "        },\n",
       "        stop: function(event, ui) {\n",
       "            pass_mouse_events = true;\n",
       "            fig.request_resize(ui.size.width, ui.size.height);\n",
       "        },\n",
       "    });\n",
       "\n",
       "    function mouse_event_fn(event) {\n",
       "        if (pass_mouse_events)\n",
       "            return fig.mouse_event(event, event['data']);\n",
       "    }\n",
       "\n",
       "    rubberband.mousedown('button_press', mouse_event_fn);\n",
       "    rubberband.mouseup('button_release', mouse_event_fn);\n",
       "    // Throttle sequential mouse events to 1 every 20ms.\n",
       "    rubberband.mousemove('motion_notify', mouse_event_fn);\n",
       "\n",
       "    rubberband.mouseenter('figure_enter', mouse_event_fn);\n",
       "    rubberband.mouseleave('figure_leave', mouse_event_fn);\n",
       "\n",
       "    canvas_div.on(\"wheel\", function (event) {\n",
       "        event = event.originalEvent;\n",
       "        event['data'] = 'scroll'\n",
       "        if (event.deltaY < 0) {\n",
       "            event.step = 1;\n",
       "        } else {\n",
       "            event.step = -1;\n",
       "        }\n",
       "        mouse_event_fn(event);\n",
       "    });\n",
       "\n",
       "    canvas_div.append(canvas);\n",
       "    canvas_div.append(rubberband);\n",
       "\n",
       "    this.rubberband = rubberband;\n",
       "    this.rubberband_canvas = rubberband[0];\n",
       "    this.rubberband_context = rubberband[0].getContext(\"2d\");\n",
       "    this.rubberband_context.strokeStyle = \"#000000\";\n",
       "\n",
       "    this._resize_canvas = function(width, height) {\n",
       "        // Keep the size of the canvas, canvas container, and rubber band\n",
       "        // canvas in synch.\n",
       "        canvas_div.css('width', width)\n",
       "        canvas_div.css('height', height)\n",
       "\n",
       "        canvas.attr('width', width * mpl.ratio);\n",
       "        canvas.attr('height', height * mpl.ratio);\n",
       "        canvas.attr('style', 'width: ' + width + 'px; height: ' + height + 'px;');\n",
       "\n",
       "        rubberband.attr('width', width);\n",
       "        rubberband.attr('height', height);\n",
       "    }\n",
       "\n",
       "    // Set the figure to an initial 600x600px, this will subsequently be updated\n",
       "    // upon first draw.\n",
       "    this._resize_canvas(600, 600);\n",
       "\n",
       "    // Disable right mouse context menu.\n",
       "    $(this.rubberband_canvas).bind(\"contextmenu\",function(e){\n",
       "        return false;\n",
       "    });\n",
       "\n",
       "    function set_focus () {\n",
       "        canvas.focus();\n",
       "        canvas_div.focus();\n",
       "    }\n",
       "\n",
       "    window.setTimeout(set_focus, 100);\n",
       "}\n",
       "\n",
       "mpl.figure.prototype._init_toolbar = function() {\n",
       "    var fig = this;\n",
       "\n",
       "    var nav_element = $('<div/>');\n",
       "    nav_element.attr('style', 'width: 100%');\n",
       "    this.root.append(nav_element);\n",
       "\n",
       "    // Define a callback function for later on.\n",
       "    function toolbar_event(event) {\n",
       "        return fig.toolbar_button_onclick(event['data']);\n",
       "    }\n",
       "    function toolbar_mouse_event(event) {\n",
       "        return fig.toolbar_button_onmouseover(event['data']);\n",
       "    }\n",
       "\n",
       "    for(var toolbar_ind in mpl.toolbar_items) {\n",
       "        var name = mpl.toolbar_items[toolbar_ind][0];\n",
       "        var tooltip = mpl.toolbar_items[toolbar_ind][1];\n",
       "        var image = mpl.toolbar_items[toolbar_ind][2];\n",
       "        var method_name = mpl.toolbar_items[toolbar_ind][3];\n",
       "\n",
       "        if (!name) {\n",
       "            // put a spacer in here.\n",
       "            continue;\n",
       "        }\n",
       "        var button = $('<button/>');\n",
       "        button.addClass('ui-button ui-widget ui-state-default ui-corner-all ' +\n",
       "                        'ui-button-icon-only');\n",
       "        button.attr('role', 'button');\n",
       "        button.attr('aria-disabled', 'false');\n",
       "        button.click(method_name, toolbar_event);\n",
       "        button.mouseover(tooltip, toolbar_mouse_event);\n",
       "\n",
       "        var icon_img = $('<span/>');\n",
       "        icon_img.addClass('ui-button-icon-primary ui-icon');\n",
       "        icon_img.addClass(image);\n",
       "        icon_img.addClass('ui-corner-all');\n",
       "\n",
       "        var tooltip_span = $('<span/>');\n",
       "        tooltip_span.addClass('ui-button-text');\n",
       "        tooltip_span.html(tooltip);\n",
       "\n",
       "        button.append(icon_img);\n",
       "        button.append(tooltip_span);\n",
       "\n",
       "        nav_element.append(button);\n",
       "    }\n",
       "\n",
       "    var fmt_picker_span = $('<span/>');\n",
       "\n",
       "    var fmt_picker = $('<select/>');\n",
       "    fmt_picker.addClass('mpl-toolbar-option ui-widget ui-widget-content');\n",
       "    fmt_picker_span.append(fmt_picker);\n",
       "    nav_element.append(fmt_picker_span);\n",
       "    this.format_dropdown = fmt_picker[0];\n",
       "\n",
       "    for (var ind in mpl.extensions) {\n",
       "        var fmt = mpl.extensions[ind];\n",
       "        var option = $(\n",
       "            '<option/>', {selected: fmt === mpl.default_extension}).html(fmt);\n",
       "        fmt_picker.append(option);\n",
       "    }\n",
       "\n",
       "    // Add hover states to the ui-buttons\n",
       "    $( \".ui-button\" ).hover(\n",
       "        function() { $(this).addClass(\"ui-state-hover\");},\n",
       "        function() { $(this).removeClass(\"ui-state-hover\");}\n",
       "    );\n",
       "\n",
       "    var status_bar = $('<span class=\"mpl-message\"/>');\n",
       "    nav_element.append(status_bar);\n",
       "    this.message = status_bar[0];\n",
       "}\n",
       "\n",
       "mpl.figure.prototype.request_resize = function(x_pixels, y_pixels) {\n",
       "    // Request matplotlib to resize the figure. Matplotlib will then trigger a resize in the client,\n",
       "    // which will in turn request a refresh of the image.\n",
       "    this.send_message('resize', {'width': x_pixels, 'height': y_pixels});\n",
       "}\n",
       "\n",
       "mpl.figure.prototype.send_message = function(type, properties) {\n",
       "    properties['type'] = type;\n",
       "    properties['figure_id'] = this.id;\n",
       "    this.ws.send(JSON.stringify(properties));\n",
       "}\n",
       "\n",
       "mpl.figure.prototype.send_draw_message = function() {\n",
       "    if (!this.waiting) {\n",
       "        this.waiting = true;\n",
       "        this.ws.send(JSON.stringify({type: \"draw\", figure_id: this.id}));\n",
       "    }\n",
       "}\n",
       "\n",
       "\n",
       "mpl.figure.prototype.handle_save = function(fig, msg) {\n",
       "    var format_dropdown = fig.format_dropdown;\n",
       "    var format = format_dropdown.options[format_dropdown.selectedIndex].value;\n",
       "    fig.ondownload(fig, format);\n",
       "}\n",
       "\n",
       "\n",
       "mpl.figure.prototype.handle_resize = function(fig, msg) {\n",
       "    var size = msg['size'];\n",
       "    if (size[0] != fig.canvas.width || size[1] != fig.canvas.height) {\n",
       "        fig._resize_canvas(size[0], size[1]);\n",
       "        fig.send_message(\"refresh\", {});\n",
       "    };\n",
       "}\n",
       "\n",
       "mpl.figure.prototype.handle_rubberband = function(fig, msg) {\n",
       "    var x0 = msg['x0'] / mpl.ratio;\n",
       "    var y0 = (fig.canvas.height - msg['y0']) / mpl.ratio;\n",
       "    var x1 = msg['x1'] / mpl.ratio;\n",
       "    var y1 = (fig.canvas.height - msg['y1']) / mpl.ratio;\n",
       "    x0 = Math.floor(x0) + 0.5;\n",
       "    y0 = Math.floor(y0) + 0.5;\n",
       "    x1 = Math.floor(x1) + 0.5;\n",
       "    y1 = Math.floor(y1) + 0.5;\n",
       "    var min_x = Math.min(x0, x1);\n",
       "    var min_y = Math.min(y0, y1);\n",
       "    var width = Math.abs(x1 - x0);\n",
       "    var height = Math.abs(y1 - y0);\n",
       "\n",
       "    fig.rubberband_context.clearRect(\n",
       "        0, 0, fig.canvas.width / mpl.ratio, fig.canvas.height / mpl.ratio);\n",
       "\n",
       "    fig.rubberband_context.strokeRect(min_x, min_y, width, height);\n",
       "}\n",
       "\n",
       "mpl.figure.prototype.handle_figure_label = function(fig, msg) {\n",
       "    // Updates the figure title.\n",
       "    fig.header.textContent = msg['label'];\n",
       "}\n",
       "\n",
       "mpl.figure.prototype.handle_cursor = function(fig, msg) {\n",
       "    var cursor = msg['cursor'];\n",
       "    switch(cursor)\n",
       "    {\n",
       "    case 0:\n",
       "        cursor = 'pointer';\n",
       "        break;\n",
       "    case 1:\n",
       "        cursor = 'default';\n",
       "        break;\n",
       "    case 2:\n",
       "        cursor = 'crosshair';\n",
       "        break;\n",
       "    case 3:\n",
       "        cursor = 'move';\n",
       "        break;\n",
       "    }\n",
       "    fig.rubberband_canvas.style.cursor = cursor;\n",
       "}\n",
       "\n",
       "mpl.figure.prototype.handle_message = function(fig, msg) {\n",
       "    fig.message.textContent = msg['message'];\n",
       "}\n",
       "\n",
       "mpl.figure.prototype.handle_draw = function(fig, msg) {\n",
       "    // Request the server to send over a new figure.\n",
       "    fig.send_draw_message();\n",
       "}\n",
       "\n",
       "mpl.figure.prototype.handle_image_mode = function(fig, msg) {\n",
       "    fig.image_mode = msg['mode'];\n",
       "}\n",
       "\n",
       "mpl.figure.prototype.updated_canvas_event = function() {\n",
       "    // Called whenever the canvas gets updated.\n",
       "    this.send_message(\"ack\", {});\n",
       "}\n",
       "\n",
       "// A function to construct a web socket function for onmessage handling.\n",
       "// Called in the figure constructor.\n",
       "mpl.figure.prototype._make_on_message_function = function(fig) {\n",
       "    return function socket_on_message(evt) {\n",
       "        if (evt.data instanceof Blob) {\n",
       "            /* FIXME: We get \"Resource interpreted as Image but\n",
       "             * transferred with MIME type text/plain:\" errors on\n",
       "             * Chrome.  But how to set the MIME type?  It doesn't seem\n",
       "             * to be part of the websocket stream */\n",
       "            evt.data.type = \"image/png\";\n",
       "\n",
       "            /* Free the memory for the previous frames */\n",
       "            if (fig.imageObj.src) {\n",
       "                (window.URL || window.webkitURL).revokeObjectURL(\n",
       "                    fig.imageObj.src);\n",
       "            }\n",
       "\n",
       "            fig.imageObj.src = (window.URL || window.webkitURL).createObjectURL(\n",
       "                evt.data);\n",
       "            fig.updated_canvas_event();\n",
       "            fig.waiting = false;\n",
       "            return;\n",
       "        }\n",
       "        else if (typeof evt.data === 'string' && evt.data.slice(0, 21) == \"data:image/png;base64\") {\n",
       "            fig.imageObj.src = evt.data;\n",
       "            fig.updated_canvas_event();\n",
       "            fig.waiting = false;\n",
       "            return;\n",
       "        }\n",
       "\n",
       "        var msg = JSON.parse(evt.data);\n",
       "        var msg_type = msg['type'];\n",
       "\n",
       "        // Call the  \"handle_{type}\" callback, which takes\n",
       "        // the figure and JSON message as its only arguments.\n",
       "        try {\n",
       "            var callback = fig[\"handle_\" + msg_type];\n",
       "        } catch (e) {\n",
       "            console.log(\"No handler for the '\" + msg_type + \"' message type: \", msg);\n",
       "            return;\n",
       "        }\n",
       "\n",
       "        if (callback) {\n",
       "            try {\n",
       "                // console.log(\"Handling '\" + msg_type + \"' message: \", msg);\n",
       "                callback(fig, msg);\n",
       "            } catch (e) {\n",
       "                console.log(\"Exception inside the 'handler_\" + msg_type + \"' callback:\", e, e.stack, msg);\n",
       "            }\n",
       "        }\n",
       "    };\n",
       "}\n",
       "\n",
       "// from http://stackoverflow.com/questions/1114465/getting-mouse-location-in-canvas\n",
       "mpl.findpos = function(e) {\n",
       "    //this section is from http://www.quirksmode.org/js/events_properties.html\n",
       "    var targ;\n",
       "    if (!e)\n",
       "        e = window.event;\n",
       "    if (e.target)\n",
       "        targ = e.target;\n",
       "    else if (e.srcElement)\n",
       "        targ = e.srcElement;\n",
       "    if (targ.nodeType == 3) // defeat Safari bug\n",
       "        targ = targ.parentNode;\n",
       "\n",
       "    // jQuery normalizes the pageX and pageY\n",
       "    // pageX,Y are the mouse positions relative to the document\n",
       "    // offset() returns the position of the element relative to the document\n",
       "    var x = e.pageX - $(targ).offset().left;\n",
       "    var y = e.pageY - $(targ).offset().top;\n",
       "\n",
       "    return {\"x\": x, \"y\": y};\n",
       "};\n",
       "\n",
       "/*\n",
       " * return a copy of an object with only non-object keys\n",
       " * we need this to avoid circular references\n",
       " * http://stackoverflow.com/a/24161582/3208463\n",
       " */\n",
       "function simpleKeys (original) {\n",
       "  return Object.keys(original).reduce(function (obj, key) {\n",
       "    if (typeof original[key] !== 'object')\n",
       "        obj[key] = original[key]\n",
       "    return obj;\n",
       "  }, {});\n",
       "}\n",
       "\n",
       "mpl.figure.prototype.mouse_event = function(event, name) {\n",
       "    var canvas_pos = mpl.findpos(event)\n",
       "\n",
       "    if (name === 'button_press')\n",
       "    {\n",
       "        this.canvas.focus();\n",
       "        this.canvas_div.focus();\n",
       "    }\n",
       "\n",
       "    var x = canvas_pos.x * mpl.ratio;\n",
       "    var y = canvas_pos.y * mpl.ratio;\n",
       "\n",
       "    this.send_message(name, {x: x, y: y, button: event.button,\n",
       "                             step: event.step,\n",
       "                             guiEvent: simpleKeys(event)});\n",
       "\n",
       "    /* This prevents the web browser from automatically changing to\n",
       "     * the text insertion cursor when the button is pressed.  We want\n",
       "     * to control all of the cursor setting manually through the\n",
       "     * 'cursor' event from matplotlib */\n",
       "    event.preventDefault();\n",
       "    return false;\n",
       "}\n",
       "\n",
       "mpl.figure.prototype._key_event_extra = function(event, name) {\n",
       "    // Handle any extra behaviour associated with a key event\n",
       "}\n",
       "\n",
       "mpl.figure.prototype.key_event = function(event, name) {\n",
       "\n",
       "    // Prevent repeat events\n",
       "    if (name == 'key_press')\n",
       "    {\n",
       "        if (event.which === this._key)\n",
       "            return;\n",
       "        else\n",
       "            this._key = event.which;\n",
       "    }\n",
       "    if (name == 'key_release')\n",
       "        this._key = null;\n",
       "\n",
       "    var value = '';\n",
       "    if (event.ctrlKey && event.which != 17)\n",
       "        value += \"ctrl+\";\n",
       "    if (event.altKey && event.which != 18)\n",
       "        value += \"alt+\";\n",
       "    if (event.shiftKey && event.which != 16)\n",
       "        value += \"shift+\";\n",
       "\n",
       "    value += 'k';\n",
       "    value += event.which.toString();\n",
       "\n",
       "    this._key_event_extra(event, name);\n",
       "\n",
       "    this.send_message(name, {key: value,\n",
       "                             guiEvent: simpleKeys(event)});\n",
       "    return false;\n",
       "}\n",
       "\n",
       "mpl.figure.prototype.toolbar_button_onclick = function(name) {\n",
       "    if (name == 'download') {\n",
       "        this.handle_save(this, null);\n",
       "    } else {\n",
       "        this.send_message(\"toolbar_button\", {name: name});\n",
       "    }\n",
       "};\n",
       "\n",
       "mpl.figure.prototype.toolbar_button_onmouseover = function(tooltip) {\n",
       "    this.message.textContent = tooltip;\n",
       "};\n",
       "mpl.toolbar_items = [[\"Home\", \"Reset original view\", \"fa fa-home icon-home\", \"home\"], [\"Back\", \"Back to previous view\", \"fa fa-arrow-left icon-arrow-left\", \"back\"], [\"Forward\", \"Forward to next view\", \"fa fa-arrow-right icon-arrow-right\", \"forward\"], [\"\", \"\", \"\", \"\"], [\"Pan\", \"Pan axes with left mouse, zoom with right\", \"fa fa-arrows icon-move\", \"pan\"], [\"Zoom\", \"Zoom to rectangle\", \"fa fa-square-o icon-check-empty\", \"zoom\"], [\"\", \"\", \"\", \"\"], [\"Download\", \"Download plot\", \"fa fa-floppy-o icon-save\", \"download\"]];\n",
       "\n",
       "mpl.extensions = [\"eps\", \"jpeg\", \"pdf\", \"png\", \"ps\", \"raw\", \"svg\", \"tif\"];\n",
       "\n",
       "mpl.default_extension = \"png\";var comm_websocket_adapter = function(comm) {\n",
       "    // Create a \"websocket\"-like object which calls the given IPython comm\n",
       "    // object with the appropriate methods. Currently this is a non binary\n",
       "    // socket, so there is still some room for performance tuning.\n",
       "    var ws = {};\n",
       "\n",
       "    ws.close = function() {\n",
       "        comm.close()\n",
       "    };\n",
       "    ws.send = function(m) {\n",
       "        //console.log('sending', m);\n",
       "        comm.send(m);\n",
       "    };\n",
       "    // Register the callback with on_msg.\n",
       "    comm.on_msg(function(msg) {\n",
       "        //console.log('receiving', msg['content']['data'], msg);\n",
       "        // Pass the mpl event to the overridden (by mpl) onmessage function.\n",
       "        ws.onmessage(msg['content']['data'])\n",
       "    });\n",
       "    return ws;\n",
       "}\n",
       "\n",
       "mpl.mpl_figure_comm = function(comm, msg) {\n",
       "    // This is the function which gets called when the mpl process\n",
       "    // starts-up an IPython Comm through the \"matplotlib\" channel.\n",
       "\n",
       "    var id = msg.content.data.id;\n",
       "    // Get hold of the div created by the display call when the Comm\n",
       "    // socket was opened in Python.\n",
       "    var element = $(\"#\" + id);\n",
       "    var ws_proxy = comm_websocket_adapter(comm)\n",
       "\n",
       "    function ondownload(figure, format) {\n",
       "        window.open(figure.imageObj.src);\n",
       "    }\n",
       "\n",
       "    var fig = new mpl.figure(id, ws_proxy,\n",
       "                           ondownload,\n",
       "                           element.get(0));\n",
       "\n",
       "    // Call onopen now - mpl needs it, as it is assuming we've passed it a real\n",
       "    // web socket which is closed, not our websocket->open comm proxy.\n",
       "    ws_proxy.onopen();\n",
       "\n",
       "    fig.parent_element = element.get(0);\n",
       "    fig.cell_info = mpl.find_output_cell(\"<div id='\" + id + \"'></div>\");\n",
       "    if (!fig.cell_info) {\n",
       "        console.error(\"Failed to find cell for figure\", id, fig);\n",
       "        return;\n",
       "    }\n",
       "\n",
       "    var output_index = fig.cell_info[2]\n",
       "    var cell = fig.cell_info[0];\n",
       "\n",
       "};\n",
       "\n",
       "mpl.figure.prototype.handle_close = function(fig, msg) {\n",
       "    var width = fig.canvas.width/mpl.ratio\n",
       "    fig.root.unbind('remove')\n",
       "\n",
       "    // Update the output cell to use the data from the current canvas.\n",
       "    fig.push_to_output();\n",
       "    var dataURL = fig.canvas.toDataURL();\n",
       "    // Re-enable the keyboard manager in IPython - without this line, in FF,\n",
       "    // the notebook keyboard shortcuts fail.\n",
       "    IPython.keyboard_manager.enable()\n",
       "    $(fig.parent_element).html('<img src=\"' + dataURL + '\" width=\"' + width + '\">');\n",
       "    fig.close_ws(fig, msg);\n",
       "}\n",
       "\n",
       "mpl.figure.prototype.close_ws = function(fig, msg){\n",
       "    fig.send_message('closing', msg);\n",
       "    // fig.ws.close()\n",
       "}\n",
       "\n",
       "mpl.figure.prototype.push_to_output = function(remove_interactive) {\n",
       "    // Turn the data on the canvas into data in the output cell.\n",
       "    var width = this.canvas.width/mpl.ratio\n",
       "    var dataURL = this.canvas.toDataURL();\n",
       "    this.cell_info[1]['text/html'] = '<img src=\"' + dataURL + '\" width=\"' + width + '\">';\n",
       "}\n",
       "\n",
       "mpl.figure.prototype.updated_canvas_event = function() {\n",
       "    // Tell IPython that the notebook contents must change.\n",
       "    IPython.notebook.set_dirty(true);\n",
       "    this.send_message(\"ack\", {});\n",
       "    var fig = this;\n",
       "    // Wait a second, then push the new image to the DOM so\n",
       "    // that it is saved nicely (might be nice to debounce this).\n",
       "    setTimeout(function () { fig.push_to_output() }, 1000);\n",
       "}\n",
       "\n",
       "mpl.figure.prototype._init_toolbar = function() {\n",
       "    var fig = this;\n",
       "\n",
       "    var nav_element = $('<div/>');\n",
       "    nav_element.attr('style', 'width: 100%');\n",
       "    this.root.append(nav_element);\n",
       "\n",
       "    // Define a callback function for later on.\n",
       "    function toolbar_event(event) {\n",
       "        return fig.toolbar_button_onclick(event['data']);\n",
       "    }\n",
       "    function toolbar_mouse_event(event) {\n",
       "        return fig.toolbar_button_onmouseover(event['data']);\n",
       "    }\n",
       "\n",
       "    for(var toolbar_ind in mpl.toolbar_items){\n",
       "        var name = mpl.toolbar_items[toolbar_ind][0];\n",
       "        var tooltip = mpl.toolbar_items[toolbar_ind][1];\n",
       "        var image = mpl.toolbar_items[toolbar_ind][2];\n",
       "        var method_name = mpl.toolbar_items[toolbar_ind][3];\n",
       "\n",
       "        if (!name) { continue; };\n",
       "\n",
       "        var button = $('<button class=\"btn btn-default\" href=\"#\" title=\"' + name + '\"><i class=\"fa ' + image + ' fa-lg\"></i></button>');\n",
       "        button.click(method_name, toolbar_event);\n",
       "        button.mouseover(tooltip, toolbar_mouse_event);\n",
       "        nav_element.append(button);\n",
       "    }\n",
       "\n",
       "    // Add the status bar.\n",
       "    var status_bar = $('<span class=\"mpl-message\" style=\"text-align:right; float: right;\"/>');\n",
       "    nav_element.append(status_bar);\n",
       "    this.message = status_bar[0];\n",
       "\n",
       "    // Add the close button to the window.\n",
       "    var buttongrp = $('<div class=\"btn-group inline pull-right\"></div>');\n",
       "    var button = $('<button class=\"btn btn-mini btn-primary\" href=\"#\" title=\"Stop Interaction\"><i class=\"fa fa-power-off icon-remove icon-large\"></i></button>');\n",
       "    button.click(function (evt) { fig.handle_close(fig, {}); } );\n",
       "    button.mouseover('Stop Interaction', toolbar_mouse_event);\n",
       "    buttongrp.append(button);\n",
       "    var titlebar = this.root.find($('.ui-dialog-titlebar'));\n",
       "    titlebar.prepend(buttongrp);\n",
       "}\n",
       "\n",
       "mpl.figure.prototype._root_extra_style = function(el){\n",
       "    var fig = this\n",
       "    el.on(\"remove\", function(){\n",
       "\tfig.close_ws(fig, {});\n",
       "    });\n",
       "}\n",
       "\n",
       "mpl.figure.prototype._canvas_extra_style = function(el){\n",
       "    // this is important to make the div 'focusable\n",
       "    el.attr('tabindex', 0)\n",
       "    // reach out to IPython and tell the keyboard manager to turn it's self\n",
       "    // off when our div gets focus\n",
       "\n",
       "    // location in version 3\n",
       "    if (IPython.notebook.keyboard_manager) {\n",
       "        IPython.notebook.keyboard_manager.register_events(el);\n",
       "    }\n",
       "    else {\n",
       "        // location in version 2\n",
       "        IPython.keyboard_manager.register_events(el);\n",
       "    }\n",
       "\n",
       "}\n",
       "\n",
       "mpl.figure.prototype._key_event_extra = function(event, name) {\n",
       "    var manager = IPython.notebook.keyboard_manager;\n",
       "    if (!manager)\n",
       "        manager = IPython.keyboard_manager;\n",
       "\n",
       "    // Check for shift+enter\n",
       "    if (event.shiftKey && event.which == 13) {\n",
       "        this.canvas_div.blur();\n",
       "        event.shiftKey = false;\n",
       "        // Send a \"J\" for go to next cell\n",
       "        event.which = 74;\n",
       "        event.keyCode = 74;\n",
       "        manager.command_mode();\n",
       "        manager.handle_keydown(event);\n",
       "    }\n",
       "}\n",
       "\n",
       "mpl.figure.prototype.handle_save = function(fig, msg) {\n",
       "    fig.ondownload(fig, null);\n",
       "}\n",
       "\n",
       "\n",
       "mpl.find_output_cell = function(html_output) {\n",
       "    // Return the cell and output element which can be found *uniquely* in the notebook.\n",
       "    // Note - this is a bit hacky, but it is done because the \"notebook_saving.Notebook\"\n",
       "    // IPython event is triggered only after the cells have been serialised, which for\n",
       "    // our purposes (turning an active figure into a static one), is too late.\n",
       "    var cells = IPython.notebook.get_cells();\n",
       "    var ncells = cells.length;\n",
       "    for (var i=0; i<ncells; i++) {\n",
       "        var cell = cells[i];\n",
       "        if (cell.cell_type === 'code'){\n",
       "            for (var j=0; j<cell.output_area.outputs.length; j++) {\n",
       "                var data = cell.output_area.outputs[j];\n",
       "                if (data.data) {\n",
       "                    // IPython >= 3 moved mimebundle to data attribute of output\n",
       "                    data = data.data;\n",
       "                }\n",
       "                if (data['text/html'] == html_output) {\n",
       "                    return [cell, data, j];\n",
       "                }\n",
       "            }\n",
       "        }\n",
       "    }\n",
       "}\n",
       "\n",
       "// Register the function which deals with the matplotlib target/channel.\n",
       "// The kernel may be null if the page has been refreshed.\n",
       "if (IPython.notebook.kernel != null) {\n",
       "    IPython.notebook.kernel.comm_manager.register_target('matplotlib', mpl.mpl_figure_comm);\n",
       "}\n"
      ],
      "text/plain": [
       "<IPython.core.display.Javascript object>"
      ]
     },
     "metadata": {},
     "output_type": "display_data"
    },
    {
     "data": {
      "text/html": [
       "<img src=\"data:image/png;base64,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\" width=\"640\">"
      ],
      "text/plain": [
       "<IPython.core.display.HTML object>"
      ]
     },
     "metadata": {},
     "output_type": "display_data"
    }
   ],
   "source": [
    "# You can draw bar graphs of dictonaries using matplotlib library easily\n",
    "# here is the code to draw the bar graph of 'count' dictonary\n",
    "%matplotlib notebook\n",
    "import matplotlib.pyplot as plt\n",
    "plt.barh(*zip(*count.items()))\n",
    "plt.show()"
   ]
  },
  {
   "cell_type": "code",
   "execution_count": 44,
   "metadata": {
    "slideshow": {
     "slide_type": "slide"
    }
   },
   "outputs": [
    {
     "name": "stdout",
     "output_type": "stream",
     "text": [
      "A: ***\n",
      "B: *****\n",
      "C: **\n",
      "D: *\n",
      "F: *\n"
     ]
    }
   ],
   "source": [
    "# now draw the same graph using '*' (star) characters\n",
    "\n",
    "# your code goes here\n",
    "\n",
    "for g in count:\n",
    "    # print grade\n",
    "    print(g + ': ',end='')\n",
    "    # print the stars for the number of that grade\n",
    "    for i in range(count[g]):\n",
    "        print('*',end='')\n",
    "    print()\n",
    "    "
   ]
  },
  {
   "cell_type": "code",
   "execution_count": 45,
   "metadata": {
    "slideshow": {
     "slide_type": "slide"
    }
   },
   "outputs": [
    {
     "name": "stdout",
     "output_type": "stream",
     "text": [
      "A\n",
      "B\n",
      "C\n",
      "D\n",
      "F\n"
     ]
    }
   ],
   "source": [
    "# step 1: first print the grades (A to F from dictionary 'count')\n",
    "for g in count:\n",
    "    print(g)"
   ]
  },
  {
   "cell_type": "code",
   "execution_count": 46,
   "metadata": {
    "slideshow": {
     "slide_type": "subslide"
    }
   },
   "outputs": [
    {
     "name": "stdout",
     "output_type": "stream",
     "text": [
      "3\n"
     ]
    }
   ],
   "source": [
    "# how many A's are in count?\n",
    "print(count['A'])"
   ]
  },
  {
   "cell_type": "code",
   "execution_count": 48,
   "metadata": {
    "slideshow": {
     "slide_type": "subslide"
    }
   },
   "outputs": [
    {
     "name": "stdout",
     "output_type": "stream",
     "text": [
      "***"
     ]
    }
   ],
   "source": [
    "# step 2: print the stars for the number of A's sideways\n",
    "for i in range(count['A']):\n",
    "    print('*',end='')"
   ]
  },
  {
   "cell_type": "code",
   "execution_count": 54,
   "metadata": {
    "slideshow": {
     "slide_type": "slide"
    }
   },
   "outputs": [],
   "source": [
    "# now connect these two steps to print stars for all grades in 'count' dictionary\n",
    "\n",
    "# your code goes here"
   ]
  },
  {
   "cell_type": "code",
   "execution_count": 5,
   "metadata": {
    "slideshow": {
     "slide_type": "subslide"
    }
   },
   "outputs": [
    {
     "data": {
      "text/plain": [
       "{'Jim': 84, 'Jen': 91, 'John': 76}"
      ]
     },
     "execution_count": 5,
     "metadata": {},
     "output_type": "execute_result"
    }
   ],
   "source": [
    "grade = {}\n",
    "grade['Jim'] = 79\n",
    "grade['Jen'] = 86\n",
    "grade['John'] = 71\n",
    "# increase grades of students 5 points each\n",
    "for s in grade:\n",
    "    grade[s] += 5\n",
    "grade"
   ]
  },
  {
   "cell_type": "code",
   "execution_count": 20,
   "metadata": {
    "slideshow": {
     "slide_type": "subslide"
    }
   },
   "outputs": [
    {
     "data": {
      "text/plain": [
       "47"
      ]
     },
     "execution_count": 20,
     "metadata": {},
     "output_type": "execute_result"
    }
   ],
   "source": [
    "scores = {'chuck': 1, 'fred': 42, 'jan': '100'}\n",
    "scores['fred']+5"
   ]
  },
  {
   "cell_type": "code",
   "execution_count": null,
   "metadata": {
    "slideshow": {
     "slide_type": "slide"
    }
   },
   "outputs": [],
   "source": [
    "scores['jan']+'2000'\n",
    "\n",
    "# A) jan2000  B) 1002000  C) 2100  D) Error"
   ]
  },
  {
   "cell_type": "code",
   "execution_count": 18,
   "metadata": {
    "slideshow": {
     "slide_type": "slide"
    }
   },
   "outputs": [
    {
     "name": "stdout",
     "output_type": "stream",
     "text": [
      "83.67\n"
     ]
    }
   ],
   "source": [
    "# find the average of scores of students\n",
    "# grade = {'Jim': 84, 'Jen': 91, 'John': 76}\n",
    "sum = 0\n",
    "cnt = 0\n",
    "for s in grade:\n",
    "    cnt += 1\n",
    "    sum += grade[s]\n",
    "print('%5.2f'% (sum/cnt))"
   ]
  },
  {
   "cell_type": "markdown",
   "metadata": {
    "slideshow": {
     "slide_type": "slide"
    }
   },
   "source": [
    "## Exercise 2: Count Grades from User Input\n",
    "Write a program that reads user input of letter grades and count them"
   ]
  },
  {
   "cell_type": "code",
   "execution_count": 7,
   "metadata": {
    "slideshow": {
     "slide_type": "slide"
    }
   },
   "outputs": [
    {
     "name": "stdout",
     "output_type": "stream",
     "text": [
      "Grades: A A B C D F B C C D F A B C D\n",
      "{'A': 3, 'B': 3, 'C': 4, 'D': 3, 'F': 2}\n"
     ]
    }
   ],
   "source": [
    "line = input('Grades: ')\n",
    "glist = line.split()\n",
    "grade = {}\n",
    "for g in glist:\n",
    "    grade[g] = grade.get(g,0) + 1\n",
    "print(grade)"
   ]
  },
  {
   "cell_type": "code",
   "execution_count": 58,
   "metadata": {
    "slideshow": {
     "slide_type": "slide"
    }
   },
   "outputs": [
    {
     "name": "stdout",
     "output_type": "stream",
     "text": [
      "Grades: A A B C D F B C C D A\n"
     ]
    },
    {
     "data": {
      "text/plain": [
       "'A A B C D F B C C D A'"
      ]
     },
     "execution_count": 58,
     "metadata": {},
     "output_type": "execute_result"
    }
   ],
   "source": [
    "line = input('Grades: ')\n",
    "line"
   ]
  },
  {
   "cell_type": "code",
   "execution_count": 68,
   "metadata": {
    "slideshow": {
     "slide_type": "slide"
    }
   },
   "outputs": [
    {
     "data": {
      "text/plain": [
       "['A', 'A', 'B', 'C', 'D', 'F', 'B', 'C', 'C', 'D', 'A', 'F']"
      ]
     },
     "execution_count": 68,
     "metadata": {},
     "output_type": "execute_result"
    }
   ],
   "source": [
    "glist = line.split()\n",
    "glist.append('F')\n",
    "glist"
   ]
  },
  {
   "cell_type": "code",
   "execution_count": 69,
   "metadata": {
    "slideshow": {
     "slide_type": "slide"
    }
   },
   "outputs": [
    {
     "data": {
      "text/plain": [
       "{}"
      ]
     },
     "execution_count": 69,
     "metadata": {},
     "output_type": "execute_result"
    }
   ],
   "source": [
    "grade = {}\n",
    "grade"
   ]
  },
  {
   "cell_type": "code",
   "execution_count": 71,
   "metadata": {
    "slideshow": {
     "slide_type": "slide"
    }
   },
   "outputs": [
    {
     "name": "stdout",
     "output_type": "stream",
     "text": [
      "['A', 'A', 'B', 'C', 'D', 'F', 'B', 'C', 'C', 'D', 'A', 'F']\n",
      "A {'A': 1}\n",
      "A {'A': 2}\n",
      "B {'A': 2, 'B': 1}\n",
      "C {'A': 2, 'B': 1, 'C': 1}\n",
      "D {'A': 2, 'B': 1, 'C': 1, 'D': 1}\n",
      "F {'A': 2, 'B': 1, 'C': 1, 'D': 1, 'F': 1}\n",
      "B {'A': 2, 'B': 2, 'C': 1, 'D': 1, 'F': 1}\n",
      "C {'A': 2, 'B': 2, 'C': 2, 'D': 1, 'F': 1}\n",
      "C {'A': 2, 'B': 2, 'C': 3, 'D': 1, 'F': 1}\n",
      "D {'A': 2, 'B': 2, 'C': 3, 'D': 2, 'F': 1}\n",
      "A {'A': 3, 'B': 2, 'C': 3, 'D': 2, 'F': 1}\n",
      "F {'A': 3, 'B': 2, 'C': 3, 'D': 2, 'F': 2}\n"
     ]
    },
    {
     "data": {
      "text/plain": [
       "{'A': 3, 'B': 2, 'C': 3, 'D': 2, 'F': 2}"
      ]
     },
     "execution_count": 71,
     "metadata": {},
     "output_type": "execute_result"
    }
   ],
   "source": [
    "grade = {}\n",
    "print(glist)\n",
    "for g in glist:\n",
    "    grade[g] = grade.get(g,0)+1\n",
    "    print(g, grade)\n",
    "grade"
   ]
  },
  {
   "cell_type": "code",
   "execution_count": 81,
   "metadata": {
    "slideshow": {
     "slide_type": "slide"
    }
   },
   "outputs": [
    {
     "data": {
      "text/plain": [
       "{'A': 3, 'B': 2, 'C': 3, 'D': 2, 'F': 2, 'W': 4, 'Q': 1}"
      ]
     },
     "execution_count": 81,
     "metadata": {},
     "output_type": "execute_result"
    }
   ],
   "source": [
    "grade['Q'] = grade.get('Q',0) + 1\n",
    "grade"
   ]
  },
  {
   "cell_type": "markdown",
   "metadata": {
    "slideshow": {
     "slide_type": "slide"
    }
   },
   "source": [
    "Print the bar graphic of the letter grade counts"
   ]
  },
  {
   "cell_type": "code",
   "execution_count": 93,
   "metadata": {
    "slideshow": {
     "slide_type": "subslide"
    }
   },
   "outputs": [
    {
     "name": "stdout",
     "output_type": "stream",
     "text": [
      "A: ***\n",
      "B: **\n",
      "C: ***\n",
      "D: **\n",
      "F: **\n",
      "W: ****\n",
      "Q: *\n"
     ]
    }
   ],
   "source": [
    "for g in grade:\n",
    "    print(g + \": \", end='')\n",
    "    for i in range(grade[g]):\n",
    "        print('*', end='')\n",
    "    print()"
   ]
  },
  {
   "cell_type": "code",
   "execution_count": 87,
   "metadata": {
    "slideshow": {
     "slide_type": "slide"
    }
   },
   "outputs": [
    {
     "name": "stdout",
     "output_type": "stream",
     "text": [
      "A 3\n",
      "B 2\n",
      "C 3\n",
      "D 2\n",
      "F 2\n",
      "W 4\n",
      "Q 1\n"
     ]
    }
   ],
   "source": [
    "for g in grade:\n",
    "    print(g,grade[g])"
   ]
  },
  {
   "cell_type": "code",
   "execution_count": 89,
   "metadata": {
    "slideshow": {
     "slide_type": "slide"
    }
   },
   "outputs": [
    {
     "name": "stdout",
     "output_type": "stream",
     "text": [
      "3\n"
     ]
    }
   ],
   "source": [
    "print(grade['C'])"
   ]
  },
  {
   "cell_type": "code",
   "execution_count": 94,
   "metadata": {
    "slideshow": {
     "slide_type": "subslide"
    }
   },
   "outputs": [
    {
     "data": {
      "text/plain": [
       "'****************************************************************************************************'"
      ]
     },
     "execution_count": 94,
     "metadata": {},
     "output_type": "execute_result"
    }
   ],
   "source": [
    "'*'*100"
   ]
  },
  {
   "cell_type": "code",
   "execution_count": 95,
   "metadata": {
    "slideshow": {
     "slide_type": "slide"
    }
   },
   "outputs": [
    {
     "name": "stdout",
     "output_type": "stream",
     "text": [
      "A: ***\n",
      "B: **\n",
      "C: ***\n",
      "D: **\n",
      "F: **\n",
      "W: ****\n",
      "Q: *\n"
     ]
    }
   ],
   "source": [
    "# or for short\n",
    "for g in grade:\n",
    "    print(g + \": \" + '*'*grade[g])"
   ]
  },
  {
   "cell_type": "code",
   "execution_count": 97,
   "metadata": {
    "scrolled": true,
    "slideshow": {
     "slide_type": "slide"
    }
   },
   "outputs": [
    {
     "data": {
      "application/javascript": [
       "/* Put everything inside the global mpl namespace */\n",
       "window.mpl = {};\n",
       "\n",
       "\n",
       "mpl.get_websocket_type = function() {\n",
       "    if (typeof(WebSocket) !== 'undefined') {\n",
       "        return WebSocket;\n",
       "    } else if (typeof(MozWebSocket) !== 'undefined') {\n",
       "        return MozWebSocket;\n",
       "    } else {\n",
       "        alert('Your browser does not have WebSocket support. ' +\n",
       "              'Please try Chrome, Safari or Firefox ≥ 6. ' +\n",
       "              'Firefox 4 and 5 are also supported but you ' +\n",
       "              'have to enable WebSockets in about:config.');\n",
       "    };\n",
       "}\n",
       "\n",
       "mpl.figure = function(figure_id, websocket, ondownload, parent_element) {\n",
       "    this.id = figure_id;\n",
       "\n",
       "    this.ws = websocket;\n",
       "\n",
       "    this.supports_binary = (this.ws.binaryType != undefined);\n",
       "\n",
       "    if (!this.supports_binary) {\n",
       "        var warnings = document.getElementById(\"mpl-warnings\");\n",
       "        if (warnings) {\n",
       "            warnings.style.display = 'block';\n",
       "            warnings.textContent = (\n",
       "                \"This browser does not support binary websocket messages. \" +\n",
       "                    \"Performance may be slow.\");\n",
       "        }\n",
       "    }\n",
       "\n",
       "    this.imageObj = new Image();\n",
       "\n",
       "    this.context = undefined;\n",
       "    this.message = undefined;\n",
       "    this.canvas = undefined;\n",
       "    this.rubberband_canvas = undefined;\n",
       "    this.rubberband_context = undefined;\n",
       "    this.format_dropdown = undefined;\n",
       "\n",
       "    this.image_mode = 'full';\n",
       "\n",
       "    this.root = $('<div/>');\n",
       "    this._root_extra_style(this.root)\n",
       "    this.root.attr('style', 'display: inline-block');\n",
       "\n",
       "    $(parent_element).append(this.root);\n",
       "\n",
       "    this._init_header(this);\n",
       "    this._init_canvas(this);\n",
       "    this._init_toolbar(this);\n",
       "\n",
       "    var fig = this;\n",
       "\n",
       "    this.waiting = false;\n",
       "\n",
       "    this.ws.onopen =  function () {\n",
       "            fig.send_message(\"supports_binary\", {value: fig.supports_binary});\n",
       "            fig.send_message(\"send_image_mode\", {});\n",
       "            if (mpl.ratio != 1) {\n",
       "                fig.send_message(\"set_dpi_ratio\", {'dpi_ratio': mpl.ratio});\n",
       "            }\n",
       "            fig.send_message(\"refresh\", {});\n",
       "        }\n",
       "\n",
       "    this.imageObj.onload = function() {\n",
       "            if (fig.image_mode == 'full') {\n",
       "                // Full images could contain transparency (where diff images\n",
       "                // almost always do), so we need to clear the canvas so that\n",
       "                // there is no ghosting.\n",
       "                fig.context.clearRect(0, 0, fig.canvas.width, fig.canvas.height);\n",
       "            }\n",
       "            fig.context.drawImage(fig.imageObj, 0, 0);\n",
       "        };\n",
       "\n",
       "    this.imageObj.onunload = function() {\n",
       "        fig.ws.close();\n",
       "    }\n",
       "\n",
       "    this.ws.onmessage = this._make_on_message_function(this);\n",
       "\n",
       "    this.ondownload = ondownload;\n",
       "}\n",
       "\n",
       "mpl.figure.prototype._init_header = function() {\n",
       "    var titlebar = $(\n",
       "        '<div class=\"ui-dialog-titlebar ui-widget-header ui-corner-all ' +\n",
       "        'ui-helper-clearfix\"/>');\n",
       "    var titletext = $(\n",
       "        '<div class=\"ui-dialog-title\" style=\"width: 100%; ' +\n",
       "        'text-align: center; padding: 3px;\"/>');\n",
       "    titlebar.append(titletext)\n",
       "    this.root.append(titlebar);\n",
       "    this.header = titletext[0];\n",
       "}\n",
       "\n",
       "\n",
       "\n",
       "mpl.figure.prototype._canvas_extra_style = function(canvas_div) {\n",
       "\n",
       "}\n",
       "\n",
       "\n",
       "mpl.figure.prototype._root_extra_style = function(canvas_div) {\n",
       "\n",
       "}\n",
       "\n",
       "mpl.figure.prototype._init_canvas = function() {\n",
       "    var fig = this;\n",
       "\n",
       "    var canvas_div = $('<div/>');\n",
       "\n",
       "    canvas_div.attr('style', 'position: relative; clear: both; outline: 0');\n",
       "\n",
       "    function canvas_keyboard_event(event) {\n",
       "        return fig.key_event(event, event['data']);\n",
       "    }\n",
       "\n",
       "    canvas_div.keydown('key_press', canvas_keyboard_event);\n",
       "    canvas_div.keyup('key_release', canvas_keyboard_event);\n",
       "    this.canvas_div = canvas_div\n",
       "    this._canvas_extra_style(canvas_div)\n",
       "    this.root.append(canvas_div);\n",
       "\n",
       "    var canvas = $('<canvas/>');\n",
       "    canvas.addClass('mpl-canvas');\n",
       "    canvas.attr('style', \"left: 0; top: 0; z-index: 0; outline: 0\")\n",
       "\n",
       "    this.canvas = canvas[0];\n",
       "    this.context = canvas[0].getContext(\"2d\");\n",
       "\n",
       "    var backingStore = this.context.backingStorePixelRatio ||\n",
       "\tthis.context.webkitBackingStorePixelRatio ||\n",
       "\tthis.context.mozBackingStorePixelRatio ||\n",
       "\tthis.context.msBackingStorePixelRatio ||\n",
       "\tthis.context.oBackingStorePixelRatio ||\n",
       "\tthis.context.backingStorePixelRatio || 1;\n",
       "\n",
       "    mpl.ratio = (window.devicePixelRatio || 1) / backingStore;\n",
       "\n",
       "    var rubberband = $('<canvas/>');\n",
       "    rubberband.attr('style', \"position: absolute; left: 0; top: 0; z-index: 1;\")\n",
       "\n",
       "    var pass_mouse_events = true;\n",
       "\n",
       "    canvas_div.resizable({\n",
       "        start: function(event, ui) {\n",
       "            pass_mouse_events = false;\n",
       "        },\n",
       "        resize: function(event, ui) {\n",
       "            fig.request_resize(ui.size.width, ui.size.height);\n",
       "        },\n",
       "        stop: function(event, ui) {\n",
       "            pass_mouse_events = true;\n",
       "            fig.request_resize(ui.size.width, ui.size.height);\n",
       "        },\n",
       "    });\n",
       "\n",
       "    function mouse_event_fn(event) {\n",
       "        if (pass_mouse_events)\n",
       "            return fig.mouse_event(event, event['data']);\n",
       "    }\n",
       "\n",
       "    rubberband.mousedown('button_press', mouse_event_fn);\n",
       "    rubberband.mouseup('button_release', mouse_event_fn);\n",
       "    // Throttle sequential mouse events to 1 every 20ms.\n",
       "    rubberband.mousemove('motion_notify', mouse_event_fn);\n",
       "\n",
       "    rubberband.mouseenter('figure_enter', mouse_event_fn);\n",
       "    rubberband.mouseleave('figure_leave', mouse_event_fn);\n",
       "\n",
       "    canvas_div.on(\"wheel\", function (event) {\n",
       "        event = event.originalEvent;\n",
       "        event['data'] = 'scroll'\n",
       "        if (event.deltaY < 0) {\n",
       "            event.step = 1;\n",
       "        } else {\n",
       "            event.step = -1;\n",
       "        }\n",
       "        mouse_event_fn(event);\n",
       "    });\n",
       "\n",
       "    canvas_div.append(canvas);\n",
       "    canvas_div.append(rubberband);\n",
       "\n",
       "    this.rubberband = rubberband;\n",
       "    this.rubberband_canvas = rubberband[0];\n",
       "    this.rubberband_context = rubberband[0].getContext(\"2d\");\n",
       "    this.rubberband_context.strokeStyle = \"#000000\";\n",
       "\n",
       "    this._resize_canvas = function(width, height) {\n",
       "        // Keep the size of the canvas, canvas container, and rubber band\n",
       "        // canvas in synch.\n",
       "        canvas_div.css('width', width)\n",
       "        canvas_div.css('height', height)\n",
       "\n",
       "        canvas.attr('width', width * mpl.ratio);\n",
       "        canvas.attr('height', height * mpl.ratio);\n",
       "        canvas.attr('style', 'width: ' + width + 'px; height: ' + height + 'px;');\n",
       "\n",
       "        rubberband.attr('width', width);\n",
       "        rubberband.attr('height', height);\n",
       "    }\n",
       "\n",
       "    // Set the figure to an initial 600x600px, this will subsequently be updated\n",
       "    // upon first draw.\n",
       "    this._resize_canvas(600, 600);\n",
       "\n",
       "    // Disable right mouse context menu.\n",
       "    $(this.rubberband_canvas).bind(\"contextmenu\",function(e){\n",
       "        return false;\n",
       "    });\n",
       "\n",
       "    function set_focus () {\n",
       "        canvas.focus();\n",
       "        canvas_div.focus();\n",
       "    }\n",
       "\n",
       "    window.setTimeout(set_focus, 100);\n",
       "}\n",
       "\n",
       "mpl.figure.prototype._init_toolbar = function() {\n",
       "    var fig = this;\n",
       "\n",
       "    var nav_element = $('<div/>');\n",
       "    nav_element.attr('style', 'width: 100%');\n",
       "    this.root.append(nav_element);\n",
       "\n",
       "    // Define a callback function for later on.\n",
       "    function toolbar_event(event) {\n",
       "        return fig.toolbar_button_onclick(event['data']);\n",
       "    }\n",
       "    function toolbar_mouse_event(event) {\n",
       "        return fig.toolbar_button_onmouseover(event['data']);\n",
       "    }\n",
       "\n",
       "    for(var toolbar_ind in mpl.toolbar_items) {\n",
       "        var name = mpl.toolbar_items[toolbar_ind][0];\n",
       "        var tooltip = mpl.toolbar_items[toolbar_ind][1];\n",
       "        var image = mpl.toolbar_items[toolbar_ind][2];\n",
       "        var method_name = mpl.toolbar_items[toolbar_ind][3];\n",
       "\n",
       "        if (!name) {\n",
       "            // put a spacer in here.\n",
       "            continue;\n",
       "        }\n",
       "        var button = $('<button/>');\n",
       "        button.addClass('ui-button ui-widget ui-state-default ui-corner-all ' +\n",
       "                        'ui-button-icon-only');\n",
       "        button.attr('role', 'button');\n",
       "        button.attr('aria-disabled', 'false');\n",
       "        button.click(method_name, toolbar_event);\n",
       "        button.mouseover(tooltip, toolbar_mouse_event);\n",
       "\n",
       "        var icon_img = $('<span/>');\n",
       "        icon_img.addClass('ui-button-icon-primary ui-icon');\n",
       "        icon_img.addClass(image);\n",
       "        icon_img.addClass('ui-corner-all');\n",
       "\n",
       "        var tooltip_span = $('<span/>');\n",
       "        tooltip_span.addClass('ui-button-text');\n",
       "        tooltip_span.html(tooltip);\n",
       "\n",
       "        button.append(icon_img);\n",
       "        button.append(tooltip_span);\n",
       "\n",
       "        nav_element.append(button);\n",
       "    }\n",
       "\n",
       "    var fmt_picker_span = $('<span/>');\n",
       "\n",
       "    var fmt_picker = $('<select/>');\n",
       "    fmt_picker.addClass('mpl-toolbar-option ui-widget ui-widget-content');\n",
       "    fmt_picker_span.append(fmt_picker);\n",
       "    nav_element.append(fmt_picker_span);\n",
       "    this.format_dropdown = fmt_picker[0];\n",
       "\n",
       "    for (var ind in mpl.extensions) {\n",
       "        var fmt = mpl.extensions[ind];\n",
       "        var option = $(\n",
       "            '<option/>', {selected: fmt === mpl.default_extension}).html(fmt);\n",
       "        fmt_picker.append(option);\n",
       "    }\n",
       "\n",
       "    // Add hover states to the ui-buttons\n",
       "    $( \".ui-button\" ).hover(\n",
       "        function() { $(this).addClass(\"ui-state-hover\");},\n",
       "        function() { $(this).removeClass(\"ui-state-hover\");}\n",
       "    );\n",
       "\n",
       "    var status_bar = $('<span class=\"mpl-message\"/>');\n",
       "    nav_element.append(status_bar);\n",
       "    this.message = status_bar[0];\n",
       "}\n",
       "\n",
       "mpl.figure.prototype.request_resize = function(x_pixels, y_pixels) {\n",
       "    // Request matplotlib to resize the figure. Matplotlib will then trigger a resize in the client,\n",
       "    // which will in turn request a refresh of the image.\n",
       "    this.send_message('resize', {'width': x_pixels, 'height': y_pixels});\n",
       "}\n",
       "\n",
       "mpl.figure.prototype.send_message = function(type, properties) {\n",
       "    properties['type'] = type;\n",
       "    properties['figure_id'] = this.id;\n",
       "    this.ws.send(JSON.stringify(properties));\n",
       "}\n",
       "\n",
       "mpl.figure.prototype.send_draw_message = function() {\n",
       "    if (!this.waiting) {\n",
       "        this.waiting = true;\n",
       "        this.ws.send(JSON.stringify({type: \"draw\", figure_id: this.id}));\n",
       "    }\n",
       "}\n",
       "\n",
       "\n",
       "mpl.figure.prototype.handle_save = function(fig, msg) {\n",
       "    var format_dropdown = fig.format_dropdown;\n",
       "    var format = format_dropdown.options[format_dropdown.selectedIndex].value;\n",
       "    fig.ondownload(fig, format);\n",
       "}\n",
       "\n",
       "\n",
       "mpl.figure.prototype.handle_resize = function(fig, msg) {\n",
       "    var size = msg['size'];\n",
       "    if (size[0] != fig.canvas.width || size[1] != fig.canvas.height) {\n",
       "        fig._resize_canvas(size[0], size[1]);\n",
       "        fig.send_message(\"refresh\", {});\n",
       "    };\n",
       "}\n",
       "\n",
       "mpl.figure.prototype.handle_rubberband = function(fig, msg) {\n",
       "    var x0 = msg['x0'] / mpl.ratio;\n",
       "    var y0 = (fig.canvas.height - msg['y0']) / mpl.ratio;\n",
       "    var x1 = msg['x1'] / mpl.ratio;\n",
       "    var y1 = (fig.canvas.height - msg['y1']) / mpl.ratio;\n",
       "    x0 = Math.floor(x0) + 0.5;\n",
       "    y0 = Math.floor(y0) + 0.5;\n",
       "    x1 = Math.floor(x1) + 0.5;\n",
       "    y1 = Math.floor(y1) + 0.5;\n",
       "    var min_x = Math.min(x0, x1);\n",
       "    var min_y = Math.min(y0, y1);\n",
       "    var width = Math.abs(x1 - x0);\n",
       "    var height = Math.abs(y1 - y0);\n",
       "\n",
       "    fig.rubberband_context.clearRect(\n",
       "        0, 0, fig.canvas.width / mpl.ratio, fig.canvas.height / mpl.ratio);\n",
       "\n",
       "    fig.rubberband_context.strokeRect(min_x, min_y, width, height);\n",
       "}\n",
       "\n",
       "mpl.figure.prototype.handle_figure_label = function(fig, msg) {\n",
       "    // Updates the figure title.\n",
       "    fig.header.textContent = msg['label'];\n",
       "}\n",
       "\n",
       "mpl.figure.prototype.handle_cursor = function(fig, msg) {\n",
       "    var cursor = msg['cursor'];\n",
       "    switch(cursor)\n",
       "    {\n",
       "    case 0:\n",
       "        cursor = 'pointer';\n",
       "        break;\n",
       "    case 1:\n",
       "        cursor = 'default';\n",
       "        break;\n",
       "    case 2:\n",
       "        cursor = 'crosshair';\n",
       "        break;\n",
       "    case 3:\n",
       "        cursor = 'move';\n",
       "        break;\n",
       "    }\n",
       "    fig.rubberband_canvas.style.cursor = cursor;\n",
       "}\n",
       "\n",
       "mpl.figure.prototype.handle_message = function(fig, msg) {\n",
       "    fig.message.textContent = msg['message'];\n",
       "}\n",
       "\n",
       "mpl.figure.prototype.handle_draw = function(fig, msg) {\n",
       "    // Request the server to send over a new figure.\n",
       "    fig.send_draw_message();\n",
       "}\n",
       "\n",
       "mpl.figure.prototype.handle_image_mode = function(fig, msg) {\n",
       "    fig.image_mode = msg['mode'];\n",
       "}\n",
       "\n",
       "mpl.figure.prototype.updated_canvas_event = function() {\n",
       "    // Called whenever the canvas gets updated.\n",
       "    this.send_message(\"ack\", {});\n",
       "}\n",
       "\n",
       "// A function to construct a web socket function for onmessage handling.\n",
       "// Called in the figure constructor.\n",
       "mpl.figure.prototype._make_on_message_function = function(fig) {\n",
       "    return function socket_on_message(evt) {\n",
       "        if (evt.data instanceof Blob) {\n",
       "            /* FIXME: We get \"Resource interpreted as Image but\n",
       "             * transferred with MIME type text/plain:\" errors on\n",
       "             * Chrome.  But how to set the MIME type?  It doesn't seem\n",
       "             * to be part of the websocket stream */\n",
       "            evt.data.type = \"image/png\";\n",
       "\n",
       "            /* Free the memory for the previous frames */\n",
       "            if (fig.imageObj.src) {\n",
       "                (window.URL || window.webkitURL).revokeObjectURL(\n",
       "                    fig.imageObj.src);\n",
       "            }\n",
       "\n",
       "            fig.imageObj.src = (window.URL || window.webkitURL).createObjectURL(\n",
       "                evt.data);\n",
       "            fig.updated_canvas_event();\n",
       "            fig.waiting = false;\n",
       "            return;\n",
       "        }\n",
       "        else if (typeof evt.data === 'string' && evt.data.slice(0, 21) == \"data:image/png;base64\") {\n",
       "            fig.imageObj.src = evt.data;\n",
       "            fig.updated_canvas_event();\n",
       "            fig.waiting = false;\n",
       "            return;\n",
       "        }\n",
       "\n",
       "        var msg = JSON.parse(evt.data);\n",
       "        var msg_type = msg['type'];\n",
       "\n",
       "        // Call the  \"handle_{type}\" callback, which takes\n",
       "        // the figure and JSON message as its only arguments.\n",
       "        try {\n",
       "            var callback = fig[\"handle_\" + msg_type];\n",
       "        } catch (e) {\n",
       "            console.log(\"No handler for the '\" + msg_type + \"' message type: \", msg);\n",
       "            return;\n",
       "        }\n",
       "\n",
       "        if (callback) {\n",
       "            try {\n",
       "                // console.log(\"Handling '\" + msg_type + \"' message: \", msg);\n",
       "                callback(fig, msg);\n",
       "            } catch (e) {\n",
       "                console.log(\"Exception inside the 'handler_\" + msg_type + \"' callback:\", e, e.stack, msg);\n",
       "            }\n",
       "        }\n",
       "    };\n",
       "}\n",
       "\n",
       "// from http://stackoverflow.com/questions/1114465/getting-mouse-location-in-canvas\n",
       "mpl.findpos = function(e) {\n",
       "    //this section is from http://www.quirksmode.org/js/events_properties.html\n",
       "    var targ;\n",
       "    if (!e)\n",
       "        e = window.event;\n",
       "    if (e.target)\n",
       "        targ = e.target;\n",
       "    else if (e.srcElement)\n",
       "        targ = e.srcElement;\n",
       "    if (targ.nodeType == 3) // defeat Safari bug\n",
       "        targ = targ.parentNode;\n",
       "\n",
       "    // jQuery normalizes the pageX and pageY\n",
       "    // pageX,Y are the mouse positions relative to the document\n",
       "    // offset() returns the position of the element relative to the document\n",
       "    var x = e.pageX - $(targ).offset().left;\n",
       "    var y = e.pageY - $(targ).offset().top;\n",
       "\n",
       "    return {\"x\": x, \"y\": y};\n",
       "};\n",
       "\n",
       "/*\n",
       " * return a copy of an object with only non-object keys\n",
       " * we need this to avoid circular references\n",
       " * http://stackoverflow.com/a/24161582/3208463\n",
       " */\n",
       "function simpleKeys (original) {\n",
       "  return Object.keys(original).reduce(function (obj, key) {\n",
       "    if (typeof original[key] !== 'object')\n",
       "        obj[key] = original[key]\n",
       "    return obj;\n",
       "  }, {});\n",
       "}\n",
       "\n",
       "mpl.figure.prototype.mouse_event = function(event, name) {\n",
       "    var canvas_pos = mpl.findpos(event)\n",
       "\n",
       "    if (name === 'button_press')\n",
       "    {\n",
       "        this.canvas.focus();\n",
       "        this.canvas_div.focus();\n",
       "    }\n",
       "\n",
       "    var x = canvas_pos.x * mpl.ratio;\n",
       "    var y = canvas_pos.y * mpl.ratio;\n",
       "\n",
       "    this.send_message(name, {x: x, y: y, button: event.button,\n",
       "                             step: event.step,\n",
       "                             guiEvent: simpleKeys(event)});\n",
       "\n",
       "    /* This prevents the web browser from automatically changing to\n",
       "     * the text insertion cursor when the button is pressed.  We want\n",
       "     * to control all of the cursor setting manually through the\n",
       "     * 'cursor' event from matplotlib */\n",
       "    event.preventDefault();\n",
       "    return false;\n",
       "}\n",
       "\n",
       "mpl.figure.prototype._key_event_extra = function(event, name) {\n",
       "    // Handle any extra behaviour associated with a key event\n",
       "}\n",
       "\n",
       "mpl.figure.prototype.key_event = function(event, name) {\n",
       "\n",
       "    // Prevent repeat events\n",
       "    if (name == 'key_press')\n",
       "    {\n",
       "        if (event.which === this._key)\n",
       "            return;\n",
       "        else\n",
       "            this._key = event.which;\n",
       "    }\n",
       "    if (name == 'key_release')\n",
       "        this._key = null;\n",
       "\n",
       "    var value = '';\n",
       "    if (event.ctrlKey && event.which != 17)\n",
       "        value += \"ctrl+\";\n",
       "    if (event.altKey && event.which != 18)\n",
       "        value += \"alt+\";\n",
       "    if (event.shiftKey && event.which != 16)\n",
       "        value += \"shift+\";\n",
       "\n",
       "    value += 'k';\n",
       "    value += event.which.toString();\n",
       "\n",
       "    this._key_event_extra(event, name);\n",
       "\n",
       "    this.send_message(name, {key: value,\n",
       "                             guiEvent: simpleKeys(event)});\n",
       "    return false;\n",
       "}\n",
       "\n",
       "mpl.figure.prototype.toolbar_button_onclick = function(name) {\n",
       "    if (name == 'download') {\n",
       "        this.handle_save(this, null);\n",
       "    } else {\n",
       "        this.send_message(\"toolbar_button\", {name: name});\n",
       "    }\n",
       "};\n",
       "\n",
       "mpl.figure.prototype.toolbar_button_onmouseover = function(tooltip) {\n",
       "    this.message.textContent = tooltip;\n",
       "};\n",
       "mpl.toolbar_items = [[\"Home\", \"Reset original view\", \"fa fa-home icon-home\", \"home\"], [\"Back\", \"Back to previous view\", \"fa fa-arrow-left icon-arrow-left\", \"back\"], [\"Forward\", \"Forward to next view\", \"fa fa-arrow-right icon-arrow-right\", \"forward\"], [\"\", \"\", \"\", \"\"], [\"Pan\", \"Pan axes with left mouse, zoom with right\", \"fa fa-arrows icon-move\", \"pan\"], [\"Zoom\", \"Zoom to rectangle\", \"fa fa-square-o icon-check-empty\", \"zoom\"], [\"\", \"\", \"\", \"\"], [\"Download\", \"Download plot\", \"fa fa-floppy-o icon-save\", \"download\"]];\n",
       "\n",
       "mpl.extensions = [\"eps\", \"jpeg\", \"pdf\", \"png\", \"ps\", \"raw\", \"svg\", \"tif\"];\n",
       "\n",
       "mpl.default_extension = \"png\";var comm_websocket_adapter = function(comm) {\n",
       "    // Create a \"websocket\"-like object which calls the given IPython comm\n",
       "    // object with the appropriate methods. Currently this is a non binary\n",
       "    // socket, so there is still some room for performance tuning.\n",
       "    var ws = {};\n",
       "\n",
       "    ws.close = function() {\n",
       "        comm.close()\n",
       "    };\n",
       "    ws.send = function(m) {\n",
       "        //console.log('sending', m);\n",
       "        comm.send(m);\n",
       "    };\n",
       "    // Register the callback with on_msg.\n",
       "    comm.on_msg(function(msg) {\n",
       "        //console.log('receiving', msg['content']['data'], msg);\n",
       "        // Pass the mpl event to the overridden (by mpl) onmessage function.\n",
       "        ws.onmessage(msg['content']['data'])\n",
       "    });\n",
       "    return ws;\n",
       "}\n",
       "\n",
       "mpl.mpl_figure_comm = function(comm, msg) {\n",
       "    // This is the function which gets called when the mpl process\n",
       "    // starts-up an IPython Comm through the \"matplotlib\" channel.\n",
       "\n",
       "    var id = msg.content.data.id;\n",
       "    // Get hold of the div created by the display call when the Comm\n",
       "    // socket was opened in Python.\n",
       "    var element = $(\"#\" + id);\n",
       "    var ws_proxy = comm_websocket_adapter(comm)\n",
       "\n",
       "    function ondownload(figure, format) {\n",
       "        window.open(figure.imageObj.src);\n",
       "    }\n",
       "\n",
       "    var fig = new mpl.figure(id, ws_proxy,\n",
       "                           ondownload,\n",
       "                           element.get(0));\n",
       "\n",
       "    // Call onopen now - mpl needs it, as it is assuming we've passed it a real\n",
       "    // web socket which is closed, not our websocket->open comm proxy.\n",
       "    ws_proxy.onopen();\n",
       "\n",
       "    fig.parent_element = element.get(0);\n",
       "    fig.cell_info = mpl.find_output_cell(\"<div id='\" + id + \"'></div>\");\n",
       "    if (!fig.cell_info) {\n",
       "        console.error(\"Failed to find cell for figure\", id, fig);\n",
       "        return;\n",
       "    }\n",
       "\n",
       "    var output_index = fig.cell_info[2]\n",
       "    var cell = fig.cell_info[0];\n",
       "\n",
       "};\n",
       "\n",
       "mpl.figure.prototype.handle_close = function(fig, msg) {\n",
       "    var width = fig.canvas.width/mpl.ratio\n",
       "    fig.root.unbind('remove')\n",
       "\n",
       "    // Update the output cell to use the data from the current canvas.\n",
       "    fig.push_to_output();\n",
       "    var dataURL = fig.canvas.toDataURL();\n",
       "    // Re-enable the keyboard manager in IPython - without this line, in FF,\n",
       "    // the notebook keyboard shortcuts fail.\n",
       "    IPython.keyboard_manager.enable()\n",
       "    $(fig.parent_element).html('<img src=\"' + dataURL + '\" width=\"' + width + '\">');\n",
       "    fig.close_ws(fig, msg);\n",
       "}\n",
       "\n",
       "mpl.figure.prototype.close_ws = function(fig, msg){\n",
       "    fig.send_message('closing', msg);\n",
       "    // fig.ws.close()\n",
       "}\n",
       "\n",
       "mpl.figure.prototype.push_to_output = function(remove_interactive) {\n",
       "    // Turn the data on the canvas into data in the output cell.\n",
       "    var width = this.canvas.width/mpl.ratio\n",
       "    var dataURL = this.canvas.toDataURL();\n",
       "    this.cell_info[1]['text/html'] = '<img src=\"' + dataURL + '\" width=\"' + width + '\">';\n",
       "}\n",
       "\n",
       "mpl.figure.prototype.updated_canvas_event = function() {\n",
       "    // Tell IPython that the notebook contents must change.\n",
       "    IPython.notebook.set_dirty(true);\n",
       "    this.send_message(\"ack\", {});\n",
       "    var fig = this;\n",
       "    // Wait a second, then push the new image to the DOM so\n",
       "    // that it is saved nicely (might be nice to debounce this).\n",
       "    setTimeout(function () { fig.push_to_output() }, 1000);\n",
       "}\n",
       "\n",
       "mpl.figure.prototype._init_toolbar = function() {\n",
       "    var fig = this;\n",
       "\n",
       "    var nav_element = $('<div/>');\n",
       "    nav_element.attr('style', 'width: 100%');\n",
       "    this.root.append(nav_element);\n",
       "\n",
       "    // Define a callback function for later on.\n",
       "    function toolbar_event(event) {\n",
       "        return fig.toolbar_button_onclick(event['data']);\n",
       "    }\n",
       "    function toolbar_mouse_event(event) {\n",
       "        return fig.toolbar_button_onmouseover(event['data']);\n",
       "    }\n",
       "\n",
       "    for(var toolbar_ind in mpl.toolbar_items){\n",
       "        var name = mpl.toolbar_items[toolbar_ind][0];\n",
       "        var tooltip = mpl.toolbar_items[toolbar_ind][1];\n",
       "        var image = mpl.toolbar_items[toolbar_ind][2];\n",
       "        var method_name = mpl.toolbar_items[toolbar_ind][3];\n",
       "\n",
       "        if (!name) { continue; };\n",
       "\n",
       "        var button = $('<button class=\"btn btn-default\" href=\"#\" title=\"' + name + '\"><i class=\"fa ' + image + ' fa-lg\"></i></button>');\n",
       "        button.click(method_name, toolbar_event);\n",
       "        button.mouseover(tooltip, toolbar_mouse_event);\n",
       "        nav_element.append(button);\n",
       "    }\n",
       "\n",
       "    // Add the status bar.\n",
       "    var status_bar = $('<span class=\"mpl-message\" style=\"text-align:right; float: right;\"/>');\n",
       "    nav_element.append(status_bar);\n",
       "    this.message = status_bar[0];\n",
       "\n",
       "    // Add the close button to the window.\n",
       "    var buttongrp = $('<div class=\"btn-group inline pull-right\"></div>');\n",
       "    var button = $('<button class=\"btn btn-mini btn-primary\" href=\"#\" title=\"Stop Interaction\"><i class=\"fa fa-power-off icon-remove icon-large\"></i></button>');\n",
       "    button.click(function (evt) { fig.handle_close(fig, {}); } );\n",
       "    button.mouseover('Stop Interaction', toolbar_mouse_event);\n",
       "    buttongrp.append(button);\n",
       "    var titlebar = this.root.find($('.ui-dialog-titlebar'));\n",
       "    titlebar.prepend(buttongrp);\n",
       "}\n",
       "\n",
       "mpl.figure.prototype._root_extra_style = function(el){\n",
       "    var fig = this\n",
       "    el.on(\"remove\", function(){\n",
       "\tfig.close_ws(fig, {});\n",
       "    });\n",
       "}\n",
       "\n",
       "mpl.figure.prototype._canvas_extra_style = function(el){\n",
       "    // this is important to make the div 'focusable\n",
       "    el.attr('tabindex', 0)\n",
       "    // reach out to IPython and tell the keyboard manager to turn it's self\n",
       "    // off when our div gets focus\n",
       "\n",
       "    // location in version 3\n",
       "    if (IPython.notebook.keyboard_manager) {\n",
       "        IPython.notebook.keyboard_manager.register_events(el);\n",
       "    }\n",
       "    else {\n",
       "        // location in version 2\n",
       "        IPython.keyboard_manager.register_events(el);\n",
       "    }\n",
       "\n",
       "}\n",
       "\n",
       "mpl.figure.prototype._key_event_extra = function(event, name) {\n",
       "    var manager = IPython.notebook.keyboard_manager;\n",
       "    if (!manager)\n",
       "        manager = IPython.keyboard_manager;\n",
       "\n",
       "    // Check for shift+enter\n",
       "    if (event.shiftKey && event.which == 13) {\n",
       "        this.canvas_div.blur();\n",
       "        event.shiftKey = false;\n",
       "        // Send a \"J\" for go to next cell\n",
       "        event.which = 74;\n",
       "        event.keyCode = 74;\n",
       "        manager.command_mode();\n",
       "        manager.handle_keydown(event);\n",
       "    }\n",
       "}\n",
       "\n",
       "mpl.figure.prototype.handle_save = function(fig, msg) {\n",
       "    fig.ondownload(fig, null);\n",
       "}\n",
       "\n",
       "\n",
       "mpl.find_output_cell = function(html_output) {\n",
       "    // Return the cell and output element which can be found *uniquely* in the notebook.\n",
       "    // Note - this is a bit hacky, but it is done because the \"notebook_saving.Notebook\"\n",
       "    // IPython event is triggered only after the cells have been serialised, which for\n",
       "    // our purposes (turning an active figure into a static one), is too late.\n",
       "    var cells = IPython.notebook.get_cells();\n",
       "    var ncells = cells.length;\n",
       "    for (var i=0; i<ncells; i++) {\n",
       "        var cell = cells[i];\n",
       "        if (cell.cell_type === 'code'){\n",
       "            for (var j=0; j<cell.output_area.outputs.length; j++) {\n",
       "                var data = cell.output_area.outputs[j];\n",
       "                if (data.data) {\n",
       "                    // IPython >= 3 moved mimebundle to data attribute of output\n",
       "                    data = data.data;\n",
       "                }\n",
       "                if (data['text/html'] == html_output) {\n",
       "                    return [cell, data, j];\n",
       "                }\n",
       "            }\n",
       "        }\n",
       "    }\n",
       "}\n",
       "\n",
       "// Register the function which deals with the matplotlib target/channel.\n",
       "// The kernel may be null if the page has been refreshed.\n",
       "if (IPython.notebook.kernel != null) {\n",
       "    IPython.notebook.kernel.comm_manager.register_target('matplotlib', mpl.mpl_figure_comm);\n",
       "}\n"
      ],
      "text/plain": [
       "<IPython.core.display.Javascript object>"
      ]
     },
     "metadata": {},
     "output_type": "display_data"
    },
    {
     "data": {
      "text/html": [
       "<img src=\"data:image/png;base64,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\" width=\"640\">"
      ],
      "text/plain": [
       "<IPython.core.display.HTML object>"
      ]
     },
     "metadata": {},
     "output_type": "display_data"
    }
   ],
   "source": [
    "%matplotlib notebook\n",
    "import matplotlib.pyplot as plt\n",
    "plt.barh(*zip(*grade.items()))\n",
    "plt.show()"
   ]
  },
  {
   "cell_type": "code",
   "execution_count": 98,
   "metadata": {
    "slideshow": {
     "slide_type": "slide"
    }
   },
   "outputs": [
    {
     "data": {
      "text/plain": [
       "dict_items([('A', 3), ('B', 2), ('C', 3), ('D', 2), ('F', 2), ('W', 4), ('Q', 1)])"
      ]
     },
     "execution_count": 98,
     "metadata": {},
     "output_type": "execute_result"
    }
   ],
   "source": [
    "grade.items()"
   ]
  },
  {
   "cell_type": "code",
   "execution_count": 99,
   "metadata": {
    "slideshow": {
     "slide_type": "subslide"
    }
   },
   "outputs": [
    {
     "data": {
      "text/plain": [
       "dict_keys(['A', 'B', 'C', 'D', 'F', 'W', 'Q'])"
      ]
     },
     "execution_count": 99,
     "metadata": {},
     "output_type": "execute_result"
    }
   ],
   "source": [
    "grade.keys()"
   ]
  },
  {
   "cell_type": "code",
   "execution_count": 100,
   "metadata": {
    "slideshow": {
     "slide_type": "subslide"
    }
   },
   "outputs": [
    {
     "data": {
      "text/plain": [
       "dict_values([3, 2, 3, 2, 2, 4, 1])"
      ]
     },
     "execution_count": 100,
     "metadata": {},
     "output_type": "execute_result"
    }
   ],
   "source": [
    "grade.values()"
   ]
  },
  {
   "cell_type": "code",
   "execution_count": 101,
   "metadata": {
    "slideshow": {
     "slide_type": "subslide"
    }
   },
   "outputs": [
    {
     "data": {
      "text/plain": [
       "{'A': 3, 'B': 2, 'C': 3, 'D': 2, 'F': 2, 'W': 4, 'Q': 1}"
      ]
     },
     "execution_count": 101,
     "metadata": {},
     "output_type": "execute_result"
    }
   ],
   "source": [
    "grade"
   ]
  },
  {
   "cell_type": "code",
   "execution_count": 108,
   "metadata": {
    "slideshow": {
     "slide_type": "subslide"
    }
   },
   "outputs": [
    {
     "data": {
      "text/plain": [
       "'No such grade'"
      ]
     },
     "execution_count": 108,
     "metadata": {},
     "output_type": "execute_result"
    }
   ],
   "source": [
    "grade.get('G','No such grade')"
   ]
  },
  {
   "cell_type": "code",
   "execution_count": 109,
   "metadata": {
    "slideshow": {
     "slide_type": "subslide"
    }
   },
   "outputs": [
    {
     "data": {
      "text/plain": [
       "{'A': 3, 'B': 2, 'C': 3, 'D': 2, 'F': 2, 'W': 4, 'Q': 1}"
      ]
     },
     "execution_count": 109,
     "metadata": {},
     "output_type": "execute_result"
    }
   ],
   "source": [
    "grade"
   ]
  },
  {
   "cell_type": "code",
   "execution_count": 118,
   "metadata": {
    "slideshow": {
     "slide_type": "subslide"
    }
   },
   "outputs": [],
   "source": [
    "grade['G'] = grade.get('G',0) + 2"
   ]
  },
  {
   "cell_type": "code",
   "execution_count": 119,
   "metadata": {
    "slideshow": {
     "slide_type": "subslide"
    }
   },
   "outputs": [
    {
     "data": {
      "text/plain": [
       "{'A': 3, 'B': 10, 'C': 3, 'D': 2, 'F': 2, 'W': 4, 'Q': 1, 'G': 4}"
      ]
     },
     "execution_count": 119,
     "metadata": {},
     "output_type": "execute_result"
    }
   ],
   "source": [
    "grade"
   ]
  },
  {
   "cell_type": "code",
   "execution_count": 43,
   "metadata": {
    "slideshow": {
     "slide_type": "slide"
    }
   },
   "outputs": [
    {
     "ename": "KeyError",
     "evalue": "'W'",
     "output_type": "error",
     "traceback": [
      "\u001b[0;31m---------------------------------------------------------------------------\u001b[0m",
      "\u001b[0;31mKeyError\u001b[0m                                  Traceback (most recent call last)",
      "\u001b[0;32m<ipython-input-43-c56f804e9364>\u001b[0m in \u001b[0;36m<module>\u001b[0;34m\u001b[0m\n\u001b[0;32m----> 1\u001b[0;31m \u001b[0mgrade\u001b[0m\u001b[0;34m[\u001b[0m\u001b[0;34m'W'\u001b[0m\u001b[0;34m]\u001b[0m\u001b[0;34m\u001b[0m\u001b[0;34m\u001b[0m\u001b[0m\n\u001b[0m",
      "\u001b[0;31mKeyError\u001b[0m: 'W'"
     ]
    }
   ],
   "source": [
    "grade['W']"
   ]
  },
  {
   "cell_type": "code",
   "execution_count": 47,
   "metadata": {
    "slideshow": {
     "slide_type": "subslide"
    }
   },
   "outputs": [],
   "source": [
    "if 'W' not in grade:\n",
    "    grade['W'] = 0"
   ]
  },
  {
   "cell_type": "code",
   "execution_count": 48,
   "metadata": {
    "slideshow": {
     "slide_type": "slide"
    }
   },
   "outputs": [
    {
     "data": {
      "text/plain": [
       "{'A': 4, 'B': 8, 'C': 4, 'D': 3, 'F': 2, 'W': 0}"
      ]
     },
     "execution_count": 48,
     "metadata": {},
     "output_type": "execute_result"
    }
   ],
   "source": [
    "grade"
   ]
  },
  {
   "cell_type": "code",
   "execution_count": 53,
   "metadata": {
    "slideshow": {
     "slide_type": "subslide"
    }
   },
   "outputs": [
    {
     "data": {
      "text/plain": [
       "1"
      ]
     },
     "execution_count": 53,
     "metadata": {},
     "output_type": "execute_result"
    }
   ],
   "source": [
    "grade['Q'] = grade.get('Q',0) + 1"
   ]
  },
  {
   "cell_type": "code",
   "execution_count": 52,
   "metadata": {
    "slideshow": {
     "slide_type": "slide"
    }
   },
   "outputs": [
    {
     "ename": "KeyError",
     "evalue": "'Q'",
     "output_type": "error",
     "traceback": [
      "\u001b[0;31m---------------------------------------------------------------------------\u001b[0m",
      "\u001b[0;31mKeyError\u001b[0m                                  Traceback (most recent call last)",
      "\u001b[0;32m<ipython-input-52-0a964c2d1a16>\u001b[0m in \u001b[0;36m<module>\u001b[0;34m\u001b[0m\n\u001b[0;32m----> 1\u001b[0;31m \u001b[0mgrade\u001b[0m\u001b[0;34m[\u001b[0m\u001b[0;34m'Q'\u001b[0m\u001b[0;34m]\u001b[0m\u001b[0;34m\u001b[0m\u001b[0;34m\u001b[0m\u001b[0m\n\u001b[0m",
      "\u001b[0;31mKeyError\u001b[0m: 'Q'"
     ]
    }
   ],
   "source": [
    "grade['Q']"
   ]
  },
  {
   "cell_type": "code",
   "execution_count": 57,
   "metadata": {
    "slideshow": {
     "slide_type": "subslide"
    }
   },
   "outputs": [
    {
     "data": {
      "text/plain": [
       "4"
      ]
     },
     "execution_count": 57,
     "metadata": {},
     "output_type": "execute_result"
    }
   ],
   "source": [
    "grade.get('A','No such symbol')"
   ]
  }
 ],
 "metadata": {
  "celltoolbar": "Slideshow",
  "kernelspec": {
   "display_name": "Python 3",
   "language": "python",
   "name": "python3"
  },
  "language_info": {
   "codemirror_mode": {
    "name": "ipython",
    "version": 3
   },
   "file_extension": ".py",
   "mimetype": "text/x-python",
   "name": "python",
   "nbconvert_exporter": "python",
   "pygments_lexer": "ipython3",
   "version": "3.7.4"
  }
 },
 "nbformat": 4,
 "nbformat_minor": 2
}
