{
 "cells": [
  {
   "cell_type": "markdown",
   "metadata": {},
   "source": [
    "### Dictionaries\n",
    "\n",
    "Author: Erdogan Dogdu"
   ]
  },
  {
   "cell_type": "code",
   "execution_count": 1,
   "metadata": {},
   "outputs": [
    {
     "name": "stdout",
     "output_type": "stream",
     "text": [
      "10\n",
      "5\n"
     ]
    }
   ],
   "source": [
    "# a variable holds a single value\n",
    "x = 10\n",
    "print(x)\n",
    "x = 5\n",
    "print(x)"
   ]
  },
  {
   "cell_type": "code",
   "execution_count": 2,
   "metadata": {},
   "outputs": [
    {
     "name": "stdout",
     "output_type": "stream",
     "text": [
      "[1, 2, 3, 4, 5]\n",
      "1\n",
      "4\n"
     ]
    }
   ],
   "source": [
    "# a list is a collection, a kind of variable holding many values in order and indexed starting at index 0\n",
    "mylist = [1, 2, 3,  4, 5]\n",
    "print(mylist)\n",
    "print(mylist[0])\n",
    "print(mylist[3])"
   ]
  },
  {
   "cell_type": "code",
   "execution_count": 3,
   "metadata": {},
   "outputs": [
    {
     "name": "stdout",
     "output_type": "stream",
     "text": [
      "{'chuck': 1, 'fred': 42, 'jan': 100}\n"
     ]
    }
   ],
   "source": [
    "# a dictionary is a collection, a kind of variable holding many values, each labeled (keys), not in a specific order.\n",
    "scores = {'chuck': 1, 'fred': 42, 'jan': 100}\n",
    "print(scores)"
   ]
  },
  {
   "cell_type": "code",
   "execution_count": 4,
   "metadata": {},
   "outputs": [
    {
     "data": {
      "text/plain": [
       "dict_keys(['chuck', 'fred', 'jan'])"
      ]
     },
     "execution_count": 4,
     "metadata": {},
     "output_type": "execute_result"
    }
   ],
   "source": [
    "scores.keys()"
   ]
  },
  {
   "cell_type": "code",
   "execution_count": 5,
   "metadata": {},
   "outputs": [
    {
     "data": {
      "text/plain": [
       "dict_values([1, 42, 100])"
      ]
     },
     "execution_count": 5,
     "metadata": {},
     "output_type": "execute_result"
    }
   ],
   "source": [
    "scores.values()"
   ]
  },
  {
   "cell_type": "code",
   "execution_count": 6,
   "metadata": {},
   "outputs": [
    {
     "name": "stdout",
     "output_type": "stream",
     "text": [
      "0\n",
      "42\n"
     ]
    }
   ],
   "source": [
    "# get method with default value for key not found.\n",
    "print(scores.get('john',0))\n",
    "print(scores.get('fred',0))"
   ]
  },
  {
   "cell_type": "code",
   "execution_count": 7,
   "metadata": {},
   "outputs": [
    {
     "data": {
      "text/plain": [
       "dict_items([('chuck', 1), ('fred', 42), ('jan', 100)])"
      ]
     },
     "execution_count": 7,
     "metadata": {},
     "output_type": "execute_result"
    }
   ],
   "source": [
    "# tuples of (key,value) items, coming soon...\n",
    "scores.items()"
   ]
  },
  {
   "cell_type": "code",
   "execution_count": 8,
   "metadata": {},
   "outputs": [
    {
     "name": "stdout",
     "output_type": "stream",
     "text": [
      "{'csev': 2, 'cwen': 2, 'zqian': 1}\n"
     ]
    }
   ],
   "source": [
    "# check key in dictionary using in/not in operators\n",
    "counts = dict()\n",
    "names = ['csev', 'cwen', 'csev', 'zqian', 'cwen']\n",
    "for name in names :\n",
    "    if name not in counts: \n",
    "        counts[name] = 1\n",
    "    else :\n",
    "        counts[name] = counts[name] + 1\n",
    "print(counts)"
   ]
  },
  {
   "cell_type": "code",
   "execution_count": 9,
   "metadata": {},
   "outputs": [
    {
     "name": "stdout",
     "output_type": "stream",
     "text": [
      "{'csev': 2, 'cwen': 2, 'zqian': 1}\n"
     ]
    }
   ],
   "source": [
    "# check key using get function with default value for key not found\n",
    "counts = dict()\n",
    "names = ['csev', 'cwen', 'csev', 'zqian', 'cwen']\n",
    "for name in names :\n",
    "    counts[name] = counts.get(name, 0) + 1      # get(key,default)\n",
    "print(counts)"
   ]
  },
  {
   "cell_type": "code",
   "execution_count": 10,
   "metadata": {},
   "outputs": [
    {
     "name": "stdout",
     "output_type": "stream",
     "text": [
      "Keys sorted: ['earth', 'jupiter', 'mars', 'mercury', 'neptune', 'saturn', 'uranus', 'venus']\n",
      "earth 3959\n",
      "jupiter 43441\n",
      "mars 2106\n",
      "mercury 1516\n",
      "neptune 15299\n",
      "saturn 36184\n",
      "uranus 15759\n",
      "venus 3760\n"
     ]
    }
   ],
   "source": [
    "# sort a dictionary by keys\n",
    "planets = { 'mercury':1516, 'earth':3959, 'saturn':36184, 'mars':2106, \n",
    "           'neptune':15299, 'jupiter':43441, 'venus':3760, 'uranus':15759}\n",
    "print('Keys sorted:', sorted(planets))\n",
    "for p in sorted(planets):\n",
    "    print(p, planets[p])"
   ]
  },
  {
   "cell_type": "code",
   "execution_count": 11,
   "metadata": {},
   "outputs": [
    {
     "name": "stdout",
     "output_type": "stream",
     "text": [
      "Enter a line of text:\n",
      "Our computers are fast and have vast amounts of memory and could be very helpful to us if we only knew the language to speak to explain to the computer what we would like it to do next.  If we knew this language we could tell the computer to do tasks on our behalf that were repetitive. Interestingly, the kinds of things computers can do best are often the kinds of things that we humans find boring and mind-numbing.\n",
      "\n",
      "Words: ['Our', 'computers', 'are', 'fast', 'and', 'have', 'vast', 'amounts', 'of', 'memory', 'and', 'could', 'be', 'very', 'helpful', 'to', 'us', 'if', 'we', 'only', 'knew', 'the', 'language', 'to', 'speak', 'to', 'explain', 'to', 'the', 'computer', 'what', 'we', 'would', 'like', 'it', 'to', 'do', 'next.', 'If', 'we', 'knew', 'this', 'language', 'we', 'could', 'tell', 'the', 'computer', 'to', 'do', 'tasks', 'on', 'our', 'behalf', 'that', 'were', 'repetitive.', 'Interestingly,', 'the', 'kinds', 'of', 'things', 'computers', 'can', 'do', 'best', 'are', 'often', 'the', 'kinds', 'of', 'things', 'that', 'we', 'humans', 'find', 'boring', 'and', 'mind-numbing.']\n",
      "Counting...\n",
      "\n",
      "Counts {'Our': 1, 'computers': 2, 'are': 2, 'fast': 1, 'and': 3, 'have': 1, 'vast': 1, 'amounts': 1, 'of': 3, 'memory': 1, 'could': 2, 'be': 1, 'very': 1, 'helpful': 1, 'to': 6, 'us': 1, 'if': 1, 'we': 5, 'only': 1, 'knew': 2, 'the': 5, 'language': 2, 'speak': 1, 'explain': 1, 'computer': 2, 'what': 1, 'would': 1, 'like': 1, 'it': 1, 'do': 3, 'next.': 1, 'If': 1, 'this': 1, 'tell': 1, 'tasks': 1, 'on': 1, 'our': 1, 'behalf': 1, 'that': 2, 'were': 1, 'repetitive.': 1, 'Interestingly,': 1, 'kinds': 2, 'things': 2, 'can': 1, 'best': 1, 'often': 1, 'humans': 1, 'find': 1, 'boring': 1, 'mind-numbing.': 1}\n"
     ]
    }
   ],
   "source": [
    "# counting words in text\n",
    "# Example text:\n",
    "# Our computers are fast and have vast amounts of memory and could be very helpful to us if we only knew the language to speak to explain to the computer what we would like it to do next.  If we knew this language we could tell the computer to do tasks on our behalf that were repetitive. Interestingly, the kinds of things computers can do best are often the kinds of things that we humans find boring and mind-numbing.\n",
    "\n",
    "counts = dict()\n",
    "print('Enter a line of text:')\n",
    "line = input('')\n",
    "\n",
    "words = line.split()\n",
    "\n",
    "print('\\nWords:', words)\n",
    "\n",
    "print('Counting...\\n')\n",
    "for word in words:\n",
    "    counts[word] = counts.get(word,0) + 1\n",
    "print('Counts', counts)"
   ]
  },
  {
   "cell_type": "code",
   "execution_count": 12,
   "metadata": {},
   "outputs": [
    {
     "name": "stdout",
     "output_type": "stream",
     "text": [
      "Our\n",
      "computers\n",
      "are\n",
      "fast\n",
      "and\n",
      "have\n",
      "vast\n",
      "amounts\n",
      "of\n",
      "memory\n",
      "could\n",
      "be\n",
      "very\n",
      "helpful\n",
      "to\n",
      "us\n",
      "if\n",
      "we\n",
      "only\n",
      "knew\n",
      "the\n",
      "language\n",
      "speak\n",
      "explain\n",
      "computer\n",
      "what\n",
      "would\n",
      "like\n",
      "it\n",
      "do\n",
      "next.\n",
      "If\n",
      "this\n",
      "tell\n",
      "tasks\n",
      "on\n",
      "our\n",
      "behalf\n",
      "that\n",
      "were\n",
      "repetitive.\n",
      "Interestingly,\n",
      "kinds\n",
      "things\n",
      "can\n",
      "best\n",
      "often\n",
      "humans\n",
      "find\n",
      "boring\n",
      "mind-numbing.\n"
     ]
    }
   ],
   "source": [
    "# print keys in a dictionary\n",
    "for key in counts:\n",
    "    print(key)"
   ]
  },
  {
   "cell_type": "code",
   "execution_count": 13,
   "metadata": {},
   "outputs": [
    {
     "name": "stdout",
     "output_type": "stream",
     "text": [
      "Our 1\n",
      "computers 2\n",
      "are 2\n",
      "fast 1\n",
      "and 3\n",
      "have 1\n",
      "vast 1\n",
      "amounts 1\n",
      "of 3\n",
      "memory 1\n",
      "could 2\n",
      "be 1\n",
      "very 1\n",
      "helpful 1\n",
      "to 6\n",
      "us 1\n",
      "if 1\n",
      "we 5\n",
      "only 1\n",
      "knew 2\n",
      "the 5\n",
      "language 2\n",
      "speak 1\n",
      "explain 1\n",
      "computer 2\n",
      "what 1\n",
      "would 1\n",
      "like 1\n",
      "it 1\n",
      "do 3\n",
      "next. 1\n",
      "If 1\n",
      "this 1\n",
      "tell 1\n",
      "tasks 1\n",
      "on 1\n",
      "our 1\n",
      "behalf 1\n",
      "that 2\n",
      "were 1\n",
      "repetitive. 1\n",
      "Interestingly, 1\n",
      "kinds 2\n",
      "things 2\n",
      "can 1\n",
      "best 1\n",
      "often 1\n",
      "humans 1\n",
      "find 1\n",
      "boring 1\n",
      "mind-numbing. 1\n"
     ]
    }
   ],
   "source": [
    "# Loop through key-value pairs in a dictionary\n",
    "for key,val in counts.items():\n",
    "    print(key,val)"
   ]
  },
  {
   "cell_type": "code",
   "execution_count": 14,
   "metadata": {},
   "outputs": [
    {
     "name": "stdout",
     "output_type": "stream",
     "text": [
      "If 1\n",
      "Interestingly, 1\n",
      "Our 1\n",
      "amounts 1\n",
      "and 3\n",
      "are 2\n",
      "be 1\n",
      "behalf 1\n",
      "best 1\n",
      "boring 1\n",
      "can 1\n",
      "computer 2\n",
      "computers 2\n",
      "could 2\n",
      "do 3\n",
      "explain 1\n",
      "fast 1\n",
      "find 1\n",
      "have 1\n",
      "helpful 1\n",
      "humans 1\n",
      "if 1\n",
      "it 1\n",
      "kinds 2\n",
      "knew 2\n",
      "language 2\n",
      "like 1\n",
      "memory 1\n",
      "mind-numbing. 1\n",
      "next. 1\n",
      "of 3\n",
      "often 1\n",
      "on 1\n",
      "only 1\n",
      "our 1\n",
      "repetitive. 1\n",
      "speak 1\n",
      "tasks 1\n",
      "tell 1\n",
      "that 2\n",
      "the 5\n",
      "things 2\n",
      "this 1\n",
      "to 6\n",
      "us 1\n",
      "vast 1\n",
      "very 1\n",
      "we 5\n",
      "were 1\n",
      "what 1\n",
      "would 1\n"
     ]
    }
   ],
   "source": [
    "# sorting a dictionary by keys\n",
    "for key in sorted(counts):\n",
    "    print(key, counts[key])"
   ]
  },
  {
   "cell_type": "code",
   "execution_count": 15,
   "metadata": {},
   "outputs": [
    {
     "name": "stdout",
     "output_type": "stream",
     "text": [
      "to 6\n",
      "we 5\n",
      "the 5\n",
      "and 3\n",
      "of 3\n",
      "do 3\n",
      "computers 2\n",
      "are 2\n",
      "could 2\n",
      "knew 2\n",
      "language 2\n",
      "computer 2\n",
      "that 2\n",
      "kinds 2\n",
      "things 2\n",
      "Our 1\n",
      "fast 1\n",
      "have 1\n",
      "vast 1\n",
      "amounts 1\n",
      "memory 1\n",
      "be 1\n",
      "very 1\n",
      "helpful 1\n",
      "us 1\n",
      "if 1\n",
      "only 1\n",
      "speak 1\n",
      "explain 1\n",
      "what 1\n",
      "would 1\n",
      "like 1\n",
      "it 1\n",
      "next. 1\n",
      "If 1\n",
      "this 1\n",
      "tell 1\n",
      "tasks 1\n",
      "on 1\n",
      "our 1\n",
      "behalf 1\n",
      "were 1\n",
      "repetitive. 1\n",
      "Interestingly, 1\n",
      "can 1\n",
      "best 1\n",
      "often 1\n",
      "humans 1\n",
      "find 1\n",
      "boring 1\n",
      "mind-numbing. 1\n"
     ]
    }
   ],
   "source": [
    "# Sort a dictionary by values in descending order\n",
    "for key in sorted(counts, key=counts.get, reverse=True):\n",
    "    print(key,counts[key])"
   ]
  }
 ],
 "metadata": {
  "kernelspec": {
   "display_name": "Python 3",
   "language": "python",
   "name": "python3"
  },
  "language_info": {
   "codemirror_mode": {
    "name": "ipython",
    "version": 3
   },
   "file_extension": ".py",
   "mimetype": "text/x-python",
   "name": "python",
   "nbconvert_exporter": "python",
   "pygments_lexer": "ipython3",
   "version": "3.7.3"
  }
 },
 "nbformat": 4,
 "nbformat_minor": 2
}
