{
 "cells": [
  {
   "cell_type": "markdown",
   "metadata": {},
   "source": [
    "# Ch 13. Recursion\n",
    "Dr. Erdogan Dogdu\n"
   ]
  },
  {
   "cell_type": "markdown",
   "metadata": {},
   "source": [
    "A function calling itself is called a recursive function."
   ]
  },
  {
   "cell_type": "code",
   "execution_count": 1,
   "metadata": {},
   "outputs": [],
   "source": [
    "# function to countback\n",
    "\n",
    "def countback(num):\n",
    "    for i in range(num):\n",
    "        print(num-i)"
   ]
  },
  {
   "cell_type": "code",
   "execution_count": 2,
   "metadata": {},
   "outputs": [
    {
     "name": "stdout",
     "output_type": "stream",
     "text": [
      "5\n",
      "4\n",
      "3\n",
      "2\n",
      "1\n"
     ]
    }
   ],
   "source": [
    "# call to function countback with argument 5\n",
    "\n",
    "countback(5)"
   ]
  },
  {
   "cell_type": "code",
   "execution_count": 3,
   "metadata": {},
   "outputs": [],
   "source": [
    "# recursive function\n",
    "\n",
    "def countback(num):\n",
    "    if num > 0:              # continue?\n",
    "        print(num)\n",
    "        countback(num - 1)   # function call itself\n",
    "        \n",
    "# no loop!"
   ]
  },
  {
   "cell_type": "code",
   "execution_count": 4,
   "metadata": {},
   "outputs": [
    {
     "name": "stdout",
     "output_type": "stream",
     "text": [
      "5\n",
      "4\n",
      "3\n",
      "2\n",
      "1\n"
     ]
    }
   ],
   "source": [
    "# call to function countback with argument 5\n",
    "\n",
    "countback(5)"
   ]
  },
  {
   "cell_type": "markdown",
   "metadata": {},
   "source": [
    "How?\n",
    "\n",
    "- countback is called the 1st time: num: 5\n",
    "- countback is called the 2nd time: num: 4\n",
    "- countback is called the 4rd time: num: 3\n",
    "- countback is called the 4th time: num: 2\n",
    "- countback is called the 5th time: num: 1\n",
    "- countback is called the 6th time: num: 0\n"
   ]
  },
  {
   "cell_type": "code",
   "execution_count": 5,
   "metadata": {},
   "outputs": [],
   "source": [
    "# What is the output of the following?\n",
    "\n",
    "def countback(num):\n",
    "    if num > 0:              # continue?\n",
    "        print(num)\n",
    "        countback(num - 1)   # function call itself\n",
    "        print('*')"
   ]
  },
  {
   "cell_type": "code",
   "execution_count": 6,
   "metadata": {},
   "outputs": [
    {
     "name": "stdout",
     "output_type": "stream",
     "text": [
      "5\n",
      "4\n",
      "3\n",
      "2\n",
      "1\n",
      "*\n",
      "*\n",
      "*\n",
      "*\n",
      "*\n"
     ]
    }
   ],
   "source": [
    "countback(5)"
   ]
  },
  {
   "cell_type": "code",
   "execution_count": 7,
   "metadata": {},
   "outputs": [],
   "source": [
    "# What is the output of the following?\n",
    "\n",
    "def paran(num):\n",
    "    if num > 0:              # continue?\n",
    "        print('(',end='')\n",
    "        paran(num - 1)   # function call itself\n",
    "        print(')',end='')\n",
    "    else:\n",
    "        print(num,end='')"
   ]
  },
  {
   "cell_type": "code",
   "execution_count": 8,
   "metadata": {},
   "outputs": [
    {
     "name": "stdout",
     "output_type": "stream",
     "text": [
      "(((((((((((((((0)))))))))))))))"
     ]
    }
   ],
   "source": [
    "paran(15)"
   ]
  },
  {
   "cell_type": "code",
   "execution_count": 9,
   "metadata": {},
   "outputs": [],
   "source": [
    "# How do you print the following\n",
    "\n",
    "def write(num, step):\n",
    "    if step > 0:              # continue?\n",
    "        print('(',end='')\n",
    "        write(num, step - 1)   # function call itself\n",
    "        print(')',end='')\n",
    "    else:\n",
    "        print(num,end='')\n",
    "\n",
    "def paran(num):\n",
    "    write(num, num)"
   ]
  },
  {
   "cell_type": "code",
   "execution_count": 10,
   "metadata": {},
   "outputs": [
    {
     "name": "stdout",
     "output_type": "stream",
     "text": [
      "(((((((((((((((15)))))))))))))))"
     ]
    }
   ],
   "source": [
    "paran(15)"
   ]
  },
  {
   "cell_type": "markdown",
   "metadata": {},
   "source": [
    "#### recursive multiplication\n",
    "<pre>\n",
    "4 x 5 = 5 + 5 + 5 + 5\n",
    "        5 + (3 x 5)\n",
    "             5 + (2 x 5)\n",
    "                  5 + (1 x 5)\n",
    "                       5 + (0 x 5)\n",
    "</pre>"
   ]
  },
  {
   "cell_type": "code",
   "execution_count": 11,
   "metadata": {},
   "outputs": [],
   "source": [
    "def multiply(num1, num2):\n",
    "    if num1==0 or num2==0:\n",
    "        return 0\n",
    "    return num2 + multiply(num1-1, num2)"
   ]
  },
  {
   "cell_type": "code",
   "execution_count": 12,
   "metadata": {},
   "outputs": [
    {
     "data": {
      "text/plain": [
       "20"
      ]
     },
     "execution_count": 12,
     "metadata": {},
     "output_type": "execute_result"
    }
   ],
   "source": [
    "multiply(4,5)"
   ]
  },
  {
   "cell_type": "markdown",
   "metadata": {},
   "source": [
    "#### sum of a list\n",
    "\n",
    "<pre>\n",
    "sum([3, 2, 1, 5, 6, 2])\n",
    "= 3 + sum([2, 1, 5, 6, 2])\n",
    "      = 2 + sum([1, 5, 6, 2])\n",
    "            = 1 + sum([5, 6, 2])\n",
    "                  = 5 + sum([6, 2])\n",
    "                        = 6 + sum([2])\n",
    "                              = 2 + sum([])\n",
    "</pre>"
   ]
  },
  {
   "cell_type": "code",
   "execution_count": 13,
   "metadata": {},
   "outputs": [],
   "source": [
    "def sum_list(lst):\n",
    "    if len(lst) == 0:\n",
    "        return 0\n",
    "    return lst[0] + sum_list(lst[1:])"
   ]
  },
  {
   "cell_type": "code",
   "execution_count": 14,
   "metadata": {},
   "outputs": [
    {
     "data": {
      "text/plain": [
       "19"
      ]
     },
     "execution_count": 14,
     "metadata": {},
     "output_type": "execute_result"
    }
   ],
   "source": [
    "sum_list([3, 2, 1, 5, 6, 2])"
   ]
  },
  {
   "cell_type": "markdown",
   "metadata": {},
   "source": [
    "#### Stars\n",
    "\n",
    "Recursive stars function to print as many stars as requested by the parameter num.\n",
    "- print one star\n",
    "- then recursively call itself to print the remaining (num-1) stars "
   ]
  },
  {
   "cell_type": "code",
   "execution_count": 15,
   "metadata": {},
   "outputs": [],
   "source": [
    "def stars(num):\n",
    "    if num>0:\n",
    "        print('*',end='')\n",
    "        stars(num-1)"
   ]
  },
  {
   "cell_type": "code",
   "execution_count": 16,
   "metadata": {},
   "outputs": [
    {
     "name": "stdout",
     "output_type": "stream",
     "text": [
      "***************"
     ]
    }
   ],
   "source": [
    "stars(15)"
   ]
  },
  {
   "cell_type": "markdown",
   "metadata": {},
   "source": [
    "#### Triangle\n",
    "\n",
    "Recursive function triangle, given a number num, prints a triangle of stars, in the size of num by num, and the triangle is printed upside down. For example, if the function is given num=5, it would print:\n",
    "\n",
    "<pre>\n",
    "*****\n",
    "****\n",
    "***\n",
    "**\n",
    "*\n",
    "</pre>\n",
    "\n",
    "Use 'stars' function above to print stars in each line.\n",
    "\n",
    "- First print stars in num count, \n",
    "- then call itself to print the remaining lines in decreasing counts (num-1).\n",
    "- until num is 0"
   ]
  },
  {
   "cell_type": "code",
   "execution_count": 17,
   "metadata": {},
   "outputs": [],
   "source": [
    "def triangle(num):\n",
    "    if num>0:\n",
    "        stars(num)\n",
    "        print()\n",
    "        triangle(num-1)"
   ]
  },
  {
   "cell_type": "code",
   "execution_count": 18,
   "metadata": {},
   "outputs": [
    {
     "name": "stdout",
     "output_type": "stream",
     "text": [
      "**********\n",
      "*********\n",
      "********\n",
      "*******\n",
      "******\n",
      "*****\n",
      "****\n",
      "***\n",
      "**\n",
      "*\n"
     ]
    }
   ],
   "source": [
    "triangle(10)"
   ]
  },
  {
   "cell_type": "markdown",
   "metadata": {},
   "source": [
    "## Assignment 10: Recursive functions\n",
    "\n",
    "1. Complete the following functions recursively (no loops)\n",
    "* Save the function definitions in asg10.py\n",
    "* Submit to gradescope"
   ]
  },
  {
   "cell_type": "markdown",
   "metadata": {},
   "source": [
    "#### max of a list"
   ]
  },
  {
   "cell_type": "code",
   "execution_count": 21,
   "metadata": {},
   "outputs": [
    {
     "data": {
      "text/plain": [
       "6"
      ]
     },
     "execution_count": 21,
     "metadata": {},
     "output_type": "execute_result"
    }
   ],
   "source": [
    "def max_list(lst):\n",
    "    # your code here\n",
    "\n",
    "max_list([3, 2, 1, 5, 6, 2])"
   ]
  },
  {
   "cell_type": "markdown",
   "metadata": {},
   "source": [
    "#### palindrom"
   ]
  },
  {
   "cell_type": "code",
   "execution_count": 22,
   "metadata": {},
   "outputs": [
    {
     "data": {
      "text/plain": [
       "True"
      ]
     },
     "execution_count": 22,
     "metadata": {},
     "output_type": "execute_result"
    }
   ],
   "source": [
    "def palindrom(str):\n",
    "    # your code here\n",
    "\n",
    "palindrom('hannah')"
   ]
  },
  {
   "cell_type": "markdown",
   "metadata": {},
   "source": [
    "#### fibonacci\n",
    "\n",
    "https://en.wikipedia.org/wiki/Fibonacci_number\n",
    "\n",
    "Fibonacci sequence: 0, 1, 1, 2, 3, 5, 8, 13, 21, 34, 55, 89, ...\n",
    "\n",
    "<pre>\n",
    "F(0) = 0\n",
    "F(1) = 1\n",
    "F(n) = F(n-1) + F(n-2)\n",
    "</pre>"
   ]
  },
  {
   "cell_type": "code",
   "execution_count": 23,
   "metadata": {},
   "outputs": [
    {
     "data": {
      "text/plain": [
       "8"
      ]
     },
     "execution_count": 23,
     "metadata": {},
     "output_type": "execute_result"
    }
   ],
   "source": [
    "def fibonacci(n):\n",
    "    # your code here\n",
    "    \n",
    "fibonacci(6)"
   ]
  },
  {
   "cell_type": "markdown",
   "metadata": {},
   "source": [
    "#### factorial\n",
    "\n",
    "https://en.wikipedia.org/wiki/Factorial\n",
    "\n",
    "<pre>\n",
    "n! = n x (n-1) x (n-2) x ... x 2 x 1\n",
    "5! = 5 x 4 x 3 x 2 x 1 = 120\n",
    "</pre>"
   ]
  },
  {
   "cell_type": "code",
   "execution_count": 24,
   "metadata": {},
   "outputs": [
    {
     "data": {
      "text/plain": [
       "120"
      ]
     },
     "execution_count": 24,
     "metadata": {},
     "output_type": "execute_result"
    }
   ],
   "source": [
    "def factorial(num):\n",
    "    # your code here\n",
    "\n",
    "factorial(5)"
   ]
  },
  {
   "cell_type": "code",
   "execution_count": null,
   "metadata": {},
   "outputs": [],
   "source": []
  }
 ],
 "metadata": {
  "kernelspec": {
   "display_name": "Python 3",
   "language": "python",
   "name": "python3"
  },
  "language_info": {
   "codemirror_mode": {
    "name": "ipython",
    "version": 3
   },
   "file_extension": ".py",
   "mimetype": "text/x-python",
   "name": "python",
   "nbconvert_exporter": "python",
   "pygments_lexer": "ipython3",
   "version": "3.7.4"
  }
 },
 "nbformat": 4,
 "nbformat_minor": 2
}
