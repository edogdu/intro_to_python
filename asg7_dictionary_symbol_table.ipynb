{
 "cells": [
  {
   "cell_type": "markdown",
   "metadata": {},
   "source": [
    "# Assignment 7: Dictionaries\n",
    "\n",
    "### Symbol Tables\n",
    "\n",
    "Programming languages make use of dictionaries in several contexts, of which one of the easiest to recognize is a symbol table, which keeps track of the correspondence between variable names and their values.\n",
    "\n",
    "Implement SymbolTable.py application that will keep track of a symbol table (dictionary) and do the following:\n",
    "\n",
    "- Reads lines from the console, each of which is one of the following commands:\n",
    "- A simple assignment statement of the form var = number.\n",
    "- A variable alone on a line, which displays the variable’s value.\n",
    "- If the command entered is 'list', the program lists all the variables with their values.\n",
    "- If the command is 'quit', the program stops.\n",
    "\n",
    "A sample run of <b>asg7.py</b>:\n",
    "\n",
    "<pre>\n",
    "> x = 1\n",
    "> y = 2\n",
    "> z = 3\n",
    "> x\n",
    "1\n",
    "> list\n",
    "x = 1\n",
    "y = 2\n",
    "z = 3\n",
    "> y\n",
    "2\n",
    "> pi = 3.14\n",
    "> list\n",
    "x = 1\n",
    "y = 2\n",
    "z = 3\n",
    "pi = 3.14\n",
    "> t\n",
    "No such symbol\n",
    "> x =\n",
    "Error\n",
    "> x = 7\n",
    "> list\n",
    "x = 7\n",
    "y = 2\n",
    "z = 3\n",
    "pi = 3.14\n",
    "> quit\n",
    "</pre>\n",
    "\n",
    "Your program should work exactly as above for the tests to run successfully on Gradescope. Submit asg7.py to Gradescope."
   ]
  },
  {
   "cell_type": "code",
   "execution_count": 7,
   "metadata": {},
   "outputs": [
    {
     "name": "stdout",
     "output_type": "stream",
     "text": [
      "> quit\n"
     ]
    }
   ],
   "source": [
    "# your code goes here:\n",
    "\n",
    "# create a dictionary\n",
    "\n",
    "# repeat:\n",
    "while True:\n",
    "    # read the command\n",
    "\n",
    "    # if the command is quit, break out of loop, and stop\n",
    "\n",
    "    \n",
    "    # if the command is list, list the symbol table elements with key and values\n",
    "\n",
    "    \n",
    "    \n",
    "    \n",
    "    # split the command into a list\n",
    "\n",
    "    # if only one symbol,\n",
    "    #    look up the dictionary and if there is print the value, if there is not, say 'No such symbol'\n",
    "    # if there is '=' in the middle, create or replace the key (first item) with the value (third item) in the dictionary\n",
    "    # else: say 'Error'\n",
    "\n",
    "    \n",
    "    "
   ]
  },
  {
   "cell_type": "code",
   "execution_count": 2,
   "metadata": {},
   "outputs": [
    {
     "name": "stdout",
     "output_type": "stream",
     "text": [
      "Enter names and numbers: Jim 345-2345 Jen 325-1234 John 123-1234\n",
      "['Jim', '345-2345', 'Jen', '325-1234', 'John', '123-1234']\n",
      "{'Jim': '345-2345', 'Jen': '325-1234', 'John': '123-1234'}\n",
      "> Jen\n",
      "325-1234\n",
      "> Jan\n",
      "Error\n",
      "> June\n",
      "Error\n",
      "> Tim\n",
      "Error\n",
      "> Jen\n",
      "325-1234\n",
      "> quit\n"
     ]
    }
   ],
   "source": [
    "# Phone Book App\n",
    "# Example from the class\n",
    "\n",
    "line = input('Enter names and numbers: ')\n",
    "lst = line.split()\n",
    "print(lst)\n",
    "d = {}\n",
    "for i in range(int(len(lst)/2)):\n",
    "    d[lst[i*2]] = lst[i*2 + 1]\n",
    "print(d)\n",
    "while True:\n",
    "    cmd = input('> ')\n",
    "    if cmd == 'quit':\n",
    "        break\n",
    "    print(d.get(cmd,'Error'))\n",
    "    "
   ]
  },
  {
   "cell_type": "code",
   "execution_count": null,
   "metadata": {},
   "outputs": [],
   "source": []
  }
 ],
 "metadata": {
  "kernelspec": {
   "display_name": "Python 3",
   "language": "python",
   "name": "python3"
  },
  "language_info": {
   "codemirror_mode": {
    "name": "ipython",
    "version": 3
   },
   "file_extension": ".py",
   "mimetype": "text/x-python",
   "name": "python",
   "nbconvert_exporter": "python",
   "pygments_lexer": "ipython3",
   "version": "3.7.3"
  }
 },
 "nbformat": 4,
 "nbformat_minor": 2
}
