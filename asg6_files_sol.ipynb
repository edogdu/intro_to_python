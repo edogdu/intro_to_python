{
 "cells": [
  {
   "cell_type": "markdown",
   "metadata": {},
   "source": [
    "<h2>Assignment Files</h2>\n",
    "\n",
    "Download data file: https://web.stanford.edu/class/archive/cs/cs109/cs109.1166/stuff/titanic.csv\n",
    "\n",
    "Read the file and find the following:\n",
    "\n",
    "1. Function survival_rate(file,gender): Returns the percentage of passengers of a specific gender who have survived? (find the number of those (male/female) passengers and the number of those passengers who survived, and then find the percentage).\n",
    "\n",
    "+ Function avg_fair(file,gender): What was the average fair paid by passengers of a specific gender?"
   ]
  },
  {
   "cell_type": "code",
   "execution_count": 47,
   "metadata": {},
   "outputs": [
    {
     "name": "stdout",
     "output_type": "stream",
     "text": [
      "Number of female passengers: 314\n"
     ]
    }
   ],
   "source": [
    "# sample code to find the number of female passengers\n",
    "\n",
    "fhand = open('titanic.csv')\n",
    "cnt = 0\n",
    "# skip headers line\n",
    "headers = fhand.readline()\n",
    "for line in fhand:\n",
    "    data = line.split(',')\n",
    "    if data[3] == 'female':\n",
    "        cnt += 1\n",
    "print('Number of female passengers:',cnt)"
   ]
  },
  {
   "cell_type": "code",
   "execution_count": 53,
   "metadata": {},
   "outputs": [],
   "source": [
    "def survival_rate(file, gender):\n",
    "    fhand = open(file)\n",
    "    # skip headers line\n",
    "    headers = fhand.readline()\n",
    "    cntsur = 0\n",
    "    cntgen = 0\n",
    "    for line in fhand:\n",
    "        data = line.split(',')\n",
    "        if data[3] == gender:\n",
    "            cntgen += 1\n",
    "            if data[0] == '1':\n",
    "                cntsur += 1\n",
    "    return cntsur/cntgen"
   ]
  },
  {
   "cell_type": "code",
   "execution_count": 54,
   "metadata": {},
   "outputs": [
    {
     "name": "stdout",
     "output_type": "stream",
     "text": [
      "0.74\n"
     ]
    }
   ],
   "source": [
    "# print the female survival rate\n",
    "print('%0.2f' % survival_rate('titanic.csv','female'))"
   ]
  },
  {
   "cell_type": "code",
   "execution_count": 55,
   "metadata": {},
   "outputs": [
    {
     "name": "stdout",
     "output_type": "stream",
     "text": [
      "0.19\n"
     ]
    }
   ],
   "source": [
    "# print the male survival rate\n",
    "print('%0.2f' % survival_rate('titanic.csv','male'))"
   ]
  },
  {
   "cell_type": "code",
   "execution_count": 56,
   "metadata": {},
   "outputs": [],
   "source": [
    "def avg_fair(file, gender):\n",
    "    fhand = open(file)\n",
    "    # skip headers line\n",
    "    headers = fhand.readline()\n",
    "    sumfair = 0\n",
    "    cntgen = 0\n",
    "    for line in fhand:\n",
    "        data = line.split(',')\n",
    "        if data[3] == gender:\n",
    "            cntgen += 1\n",
    "            sumfair += float(data[-1])\n",
    "    return sumfair/cntgen"
   ]
  },
  {
   "cell_type": "code",
   "execution_count": 57,
   "metadata": {},
   "outputs": [
    {
     "name": "stdout",
     "output_type": "stream",
     "text": [
      "44.48\n"
     ]
    }
   ],
   "source": [
    "# print the av rate\n",
    "print('%4.2f' % avg_fair('titanic.csv','female'))"
   ]
  },
  {
   "cell_type": "code",
   "execution_count": 58,
   "metadata": {},
   "outputs": [
    {
     "name": "stdout",
     "output_type": "stream",
     "text": [
      "25.63\n"
     ]
    }
   ],
   "source": [
    "# print the male survival rate\n",
    "print('%4.2f' % avg_fair('titanic.csv','male'))"
   ]
  },
  {
   "cell_type": "code",
   "execution_count": 59,
   "metadata": {},
   "outputs": [],
   "source": [
    "def pclass_survival(file, pclass):\n",
    "    fhand = open(file)\n",
    "    # skip headers line\n",
    "    headers = fhand.readline()\n",
    "    cntsur = 0\n",
    "    cntpclass = 0\n",
    "    for line in fhand:\n",
    "        data = line.split(',')\n",
    "        if data[1] == pclass:\n",
    "            cntpclass += 1\n",
    "            if data[0] == '1':\n",
    "                cntsur += 1\n",
    "    if cntpclass == 0:\n",
    "        return 0\n",
    "    return cntsur/cntpclass"
   ]
  },
  {
   "cell_type": "code",
   "execution_count": 60,
   "metadata": {},
   "outputs": [
    {
     "name": "stdout",
     "output_type": "stream",
     "text": [
      "0.63\n"
     ]
    }
   ],
   "source": [
    "print('%4.2f' % pclass_survival('titanic.csv','1'))"
   ]
  },
  {
   "cell_type": "code",
   "execution_count": 61,
   "metadata": {},
   "outputs": [
    {
     "name": "stdout",
     "output_type": "stream",
     "text": [
      "0.47\n"
     ]
    }
   ],
   "source": [
    "print('%4.2f' % pclass_survival('titanic.csv','2'))"
   ]
  },
  {
   "cell_type": "code",
   "execution_count": 62,
   "metadata": {},
   "outputs": [
    {
     "name": "stdout",
     "output_type": "stream",
     "text": [
      "0.24\n"
     ]
    }
   ],
   "source": [
    "print('%4.2f' % pclass_survival('titanic.csv','3'))"
   ]
  },
  {
   "cell_type": "code",
   "execution_count": 63,
   "metadata": {},
   "outputs": [
    {
     "name": "stdout",
     "output_type": "stream",
     "text": [
      "0.00\n"
     ]
    }
   ],
   "source": [
    "# should return 0, make sure\n",
    "print('%4.2f' % pclass_survival('titanic.csv','4'))"
   ]
  }
 ],
 "metadata": {
  "kernelspec": {
   "display_name": "Python 3",
   "language": "python",
   "name": "python3"
  },
  "language_info": {
   "codemirror_mode": {
    "name": "ipython",
    "version": 3
   },
   "file_extension": ".py",
   "mimetype": "text/x-python",
   "name": "python",
   "nbconvert_exporter": "python",
   "pygments_lexer": "ipython3",
   "version": "3.7.4"
  }
 },
 "nbformat": 4,
 "nbformat_minor": 2
}
